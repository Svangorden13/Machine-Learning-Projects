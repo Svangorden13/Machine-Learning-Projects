{
 "cells": [
  {
   "cell_type": "code",
   "execution_count": 1,
   "id": "52b48927",
   "metadata": {
    "_cell_guid": "b1076dfc-b9ad-4769-8c92-a6c4dae69d19",
    "_uuid": "8f2839f25d086af736a60e9eeb907d3b93b6e0e5",
    "execution": {
     "iopub.execute_input": "2023-08-16T21:22:24.022867Z",
     "iopub.status.busy": "2023-08-16T21:22:24.022409Z",
     "iopub.status.idle": "2023-08-16T21:22:24.034423Z",
     "shell.execute_reply": "2023-08-16T21:22:24.033580Z"
    },
    "papermill": {
     "duration": 0.021809,
     "end_time": "2023-08-16T21:22:24.036561",
     "exception": false,
     "start_time": "2023-08-16T21:22:24.014752",
     "status": "completed"
    },
    "tags": []
   },
   "outputs": [],
   "source": [
    "# This Python 3 environment comes with many helpful analytics libraries installed\n",
    "# It is defined by the kaggle/python Docker image: https://github.com/kaggle/docker-python\n",
    "# For example, here's several helpful packages to load\n",
    "import numpy as np # linear algebra\n",
    "import pandas as pd # data processing, CSV file I/O (e.g. pd.read_csv)\n",
    "\n",
    "# Input data files are available in the read-only \"../input/\" directory\n",
    "# For example, running this (by clicking run or pressing Shift+Enter) will list all files under the input directory\n",
    "import os\n",
    "\n",
    "# You can write up to 20GB to the current directory (/kaggle/working/) that gets preserved as output when you create a version using \"Save & Run All\" \n",
    "# You can also write temporary files to /kaggle/temp/, but they won't be saved outside of the current session"
   ]
  },
  {
   "cell_type": "markdown",
   "id": "7ba52efb",
   "metadata": {},
   "source": [
    "## Resize Images"
   ]
  },
  {
   "cell_type": "code",
   "execution_count": 2,
   "id": "899346fa",
   "metadata": {
    "execution": {
     "iopub.execute_input": "2023-08-16T21:22:24.048898Z",
     "iopub.status.busy": "2023-08-16T21:22:24.047884Z",
     "iopub.status.idle": "2023-08-16T21:24:32.015250Z",
     "shell.execute_reply": "2023-08-16T21:24:32.014357Z"
    },
    "papermill": {
     "duration": 127.976267,
     "end_time": "2023-08-16T21:24:32.017960",
     "exception": false,
     "start_time": "2023-08-16T21:22:24.041693",
     "status": "completed"
    },
    "tags": []
   },
   "outputs": [
    {
     "name": "stderr",
     "output_type": "stream",
     "text": [
      "/tmp/ipykernel_20/2538394186.py:12: DeprecationWarning: ANTIALIAS is deprecated and will be removed in Pillow 10 (2023-07-01). Use LANCZOS or Resampling.LANCZOS instead.\n",
      "  imResize = im.resize((512,512), Image.ANTIALIAS)\n"
     ]
    }
   ],
   "source": [
    "from PIL import Image\n",
    "import sys\n",
    "\n",
    "def resize(path,mw):\n",
    "    dirs = os.listdir(path)\n",
    "    outpath = path.replace(\"input\", \"output\") + \"resized/\"\n",
    "    os.makedirs(outpath, exist_ok=True)\n",
    "    for item in dirs:\n",
    "        if os.path.isfile(path+item):\n",
    "            im = Image.open(path+item)\n",
    "            f, e = os.path.splitext(path+item)\n",
    "            imResize = im.resize((512,512), Image.ANTIALIAS)\n",
    "            imResize.convert('RGB').save(outpath+item, 'JPEG', quality=90)\n",
    "\n",
    "resize(\"/kaggle/input/men-women-classification/men/\", \"men/\")\n",
    "resize(\"/kaggle/input/men-women-classification/women/\", \"women/\")"
   ]
  },
  {
   "cell_type": "markdown",
   "id": "f452be88",
   "metadata": {},
   "source": [
    "## Define Network"
   ]
  },
  {
   "cell_type": "markdown",
   "id": "42fcbedb",
   "metadata": {},
   "source": [
    "Network consists of two convolutional layers followed by three linear layers."
   ]
  },
  {
   "cell_type": "code",
   "execution_count": 3,
   "id": "0f536cb0",
   "metadata": {
    "execution": {
     "iopub.execute_input": "2023-08-16T21:24:32.030538Z",
     "iopub.status.busy": "2023-08-16T21:24:32.029902Z",
     "iopub.status.idle": "2023-08-16T21:24:36.348164Z",
     "shell.execute_reply": "2023-08-16T21:24:36.346272Z"
    },
    "papermill": {
     "duration": 4.327583,
     "end_time": "2023-08-16T21:24:36.350838",
     "exception": false,
     "start_time": "2023-08-16T21:24:32.023255",
     "status": "completed"
    },
    "tags": []
   },
   "outputs": [
    {
     "name": "stdout",
     "output_type": "stream",
     "text": [
      "Net(\n",
      "  (conv1): Conv2d(3, 6, kernel_size=(10, 10), stride=(1, 1))\n",
      "  (conv2): Conv2d(6, 16, kernel_size=(10, 10), stride=(1, 1))\n",
      "  (fc1): Linear(in_features=234256, out_features=120, bias=True)\n",
      "  (fc2): Linear(in_features=120, out_features=84, bias=True)\n",
      "  (fc3): Linear(in_features=84, out_features=2, bias=True)\n",
      ")\n"
     ]
    }
   ],
   "source": [
    "import torch\n",
    "import torch.nn as nn\n",
    "import torch.nn.functional as F\n",
    "\n",
    "\n",
    "class Net(nn.Module):\n",
    "\n",
    "    def __init__(self):\n",
    "        super(Net, self).__init__()\n",
    "        # 3 input image channel, 6 output channels, 5x5 square convolution\n",
    "        # kernel\n",
    "        self.conv1 = nn.Conv2d(3, 6, 10)\n",
    "        self.conv2 = nn.Conv2d(6, 16, 10)\n",
    "        # an affine operation: y = Wx + b\n",
    "        self.fc1 = nn.Linear(16 * 121 * 121, 120)  # 5*5 from image dimension\n",
    "        self.fc2 = nn.Linear(120, 84)\n",
    "        self.fc3 = nn.Linear(84, 2)\n",
    "\n",
    "    def forward(self, x):\n",
    "        # Max pooling over a (2, 2) window\n",
    "        x = F.normalize(x)\n",
    "        x = F.max_pool2d(F.relu(self.conv1(x)), (2, 2))\n",
    "        # If the size is a square, you can specify with a single number\n",
    "        x = F.max_pool2d(F.relu(self.conv2(x)), 2)\n",
    "        x = torch.flatten(x, 1) # flatten all dimensions except the batch dimension\n",
    "        x = F.relu(self.fc1(x))\n",
    "        x = F.relu(self.fc2(x))\n",
    "        x = self.fc3(x)\n",
    "        return x\n",
    "\n",
    "\n",
    "net = Net()\n",
    "print(net)"
   ]
  },
  {
   "cell_type": "markdown",
   "id": "64b86d4c",
   "metadata": {},
   "source": [
    "## Define Image Dataset"
   ]
  },
  {
   "cell_type": "code",
   "execution_count": 4,
   "id": "fa402dd7",
   "metadata": {
    "execution": {
     "iopub.execute_input": "2023-08-16T21:24:36.363537Z",
     "iopub.status.busy": "2023-08-16T21:24:36.362852Z",
     "iopub.status.idle": "2023-08-16T21:24:36.711542Z",
     "shell.execute_reply": "2023-08-16T21:24:36.710514Z"
    },
    "papermill": {
     "duration": 0.35802,
     "end_time": "2023-08-16T21:24:36.714251",
     "exception": false,
     "start_time": "2023-08-16T21:24:36.356231",
     "status": "completed"
    },
    "tags": []
   },
   "outputs": [],
   "source": [
    "from torch.utils.data import Dataset, ConcatDataset, DataLoader, random_split\n",
    "from torchvision.io import read_image\n",
    "\n",
    "class CustomImageDataset(Dataset):\n",
    "    def __init__(self, label, img_dir, transform=None, target_transform=None):\n",
    "        self.img_label = label\n",
    "        self.img_dir = img_dir\n",
    "        self.transform = transform\n",
    "        self.target_transform = target_transform\n",
    "\n",
    "    def __len__(self):\n",
    "        count = 0\n",
    "        # Iterate directory\n",
    "        for path in os.listdir(self.img_dir):\n",
    "            # check if current path is a file\n",
    "            if os.path.isfile(os.path.join(self.img_dir, path)):\n",
    "                count += 1\n",
    "        return count\n",
    "\n",
    "    def __getitem__(self, idx):\n",
    "        img_path = os.listdir(self.img_dir)[idx]\n",
    "        image = read_image(os.path.join(self.img_dir,img_path))\n",
    "        label = self.img_label\n",
    "        if self.transform:\n",
    "            image = self.transform(image)\n",
    "        if self.target_transform:\n",
    "            label = self.target_transform(label)\n",
    "        return image, label"
   ]
  },
  {
   "cell_type": "code",
   "execution_count": 5,
   "id": "231aca65",
   "metadata": {
    "execution": {
     "iopub.execute_input": "2023-08-16T21:24:36.726382Z",
     "iopub.status.busy": "2023-08-16T21:24:36.725780Z",
     "iopub.status.idle": "2023-08-16T21:24:36.731203Z",
     "shell.execute_reply": "2023-08-16T21:24:36.730223Z"
    },
    "papermill": {
     "duration": 0.014403,
     "end_time": "2023-08-16T21:24:36.733837",
     "exception": false,
     "start_time": "2023-08-16T21:24:36.719434",
     "status": "completed"
    },
    "tags": []
   },
   "outputs": [],
   "source": [
    "men_ds = CustomImageDataset(0, \"/kaggle/output/men-women-classification/men/resized\")\n",
    "women_ds = CustomImageDataset(1, \"/kaggle/output/men-women-classification/women/resized\")"
   ]
  },
  {
   "cell_type": "code",
   "execution_count": 6,
   "id": "ad5e5cdb",
   "metadata": {
    "execution": {
     "iopub.execute_input": "2023-08-16T21:24:36.747105Z",
     "iopub.status.busy": "2023-08-16T21:24:36.746152Z",
     "iopub.status.idle": "2023-08-16T21:24:36.797831Z",
     "shell.execute_reply": "2023-08-16T21:24:36.796509Z"
    },
    "papermill": {
     "duration": 0.060936,
     "end_time": "2023-08-16T21:24:36.800480",
     "exception": false,
     "start_time": "2023-08-16T21:24:36.739544",
     "status": "completed"
    },
    "tags": []
   },
   "outputs": [],
   "source": [
    "dataset = ConcatDataset([men_ds, women_ds])\n",
    "train_ds, val_ds, test_ds = random_split(dataset, [0.7, 0.2, 0.1])\n",
    "train_loader = DataLoader(train_ds, batch_size=1, shuffle=True)\n",
    "val_loader = DataLoader(val_ds, batch_size=1)\n",
    "test_loader = DataLoader(test_ds)"
   ]
  },
  {
   "cell_type": "markdown",
   "id": "f610026d",
   "metadata": {},
   "source": [
    "## Train Network"
   ]
  },
  {
   "cell_type": "markdown",
   "id": "b18be2df",
   "metadata": {},
   "source": [
    "Manually propagate data through network and back-propagate loss."
   ]
  },
  {
   "cell_type": "code",
   "execution_count": 7,
   "id": "174aa1ed",
   "metadata": {
    "execution": {
     "iopub.execute_input": "2023-08-16T21:24:36.812840Z",
     "iopub.status.busy": "2023-08-16T21:24:36.812423Z",
     "iopub.status.idle": "2023-08-16T21:51:28.266585Z",
     "shell.execute_reply": "2023-08-16T21:51:28.265383Z"
    },
    "papermill": {
     "duration": 1611.463871,
     "end_time": "2023-08-16T21:51:28.269608",
     "exception": false,
     "start_time": "2023-08-16T21:24:36.805737",
     "status": "completed"
    },
    "tags": []
   },
   "outputs": [],
   "source": [
    "import torch.optim as optim\n",
    "\n",
    "# create loss criterion\n",
    "criterion = nn.CrossEntropyLoss()\n",
    "\n",
    "# create your optimizer\n",
    "optimizer = optim.Adam(net.parameters(), lr=0.0001)\n",
    "\n",
    "# in your training loop:\n",
    "for i, data in enumerate(train_loader, 0):\n",
    "    input, target = data\n",
    "    input = input.float()\n",
    "    optimizer.zero_grad()   # zero the gradient buffers\n",
    "    output = net(input)\n",
    "    loss = criterion(output, target)\n",
    "    loss.backward()\n",
    "    optimizer.step()    # Does the update"
   ]
  },
  {
   "cell_type": "markdown",
   "id": "a0ee889e",
   "metadata": {},
   "source": [
    "Save trained network."
   ]
  },
  {
   "cell_type": "code",
   "execution_count": 8,
   "id": "657aba55",
   "metadata": {
    "execution": {
     "iopub.execute_input": "2023-08-16T21:51:28.281982Z",
     "iopub.status.busy": "2023-08-16T21:51:28.281544Z",
     "iopub.status.idle": "2023-08-16T21:51:28.424307Z",
     "shell.execute_reply": "2023-08-16T21:51:28.423246Z"
    },
    "papermill": {
     "duration": 0.15218,
     "end_time": "2023-08-16T21:51:28.427048",
     "exception": false,
     "start_time": "2023-08-16T21:51:28.274868",
     "status": "completed"
    },
    "tags": []
   },
   "outputs": [],
   "source": [
    "torch.save(net.state_dict(), \"/kaggle/output/net.pth\")"
   ]
  },
  {
   "cell_type": "code",
   "execution_count": 9,
   "id": "1b8faae3",
   "metadata": {
    "execution": {
     "iopub.execute_input": "2023-08-16T21:51:28.438705Z",
     "iopub.status.busy": "2023-08-16T21:51:28.438309Z",
     "iopub.status.idle": "2023-08-16T21:51:28.849776Z",
     "shell.execute_reply": "2023-08-16T21:51:28.848700Z"
    },
    "papermill": {
     "duration": 0.421044,
     "end_time": "2023-08-16T21:51:28.853136",
     "exception": false,
     "start_time": "2023-08-16T21:51:28.432092",
     "status": "completed"
    },
    "tags": []
   },
   "outputs": [
    {
     "data": {
      "text/plain": [
       "<All keys matched successfully>"
      ]
     },
     "execution_count": 9,
     "metadata": {},
     "output_type": "execute_result"
    }
   ],
   "source": [
    "newnet = Net()\n",
    "newnet.load_state_dict(torch.load(\"/kaggle/output/net.pth\"))"
   ]
  },
  {
   "cell_type": "code",
   "execution_count": 10,
   "id": "2410fbee",
   "metadata": {
    "execution": {
     "iopub.execute_input": "2023-08-16T21:51:28.865026Z",
     "iopub.status.busy": "2023-08-16T21:51:28.864643Z",
     "iopub.status.idle": "2023-08-16T21:51:28.872762Z",
     "shell.execute_reply": "2023-08-16T21:51:28.871926Z"
    },
    "papermill": {
     "duration": 0.016488,
     "end_time": "2023-08-16T21:51:28.874953",
     "exception": false,
     "start_time": "2023-08-16T21:51:28.858465",
     "status": "completed"
    },
    "tags": []
   },
   "outputs": [],
   "source": [
    "data, target = next(iter(val_loader))"
   ]
  },
  {
   "cell_type": "markdown",
   "id": "e4fcfbf5",
   "metadata": {},
   "source": [
    "## Validation"
   ]
  },
  {
   "cell_type": "markdown",
   "id": "9be7dee8",
   "metadata": {},
   "source": [
    "Manually propagate validation data through network and determine accuracy based on true target values."
   ]
  },
  {
   "cell_type": "code",
   "execution_count": 11,
   "id": "6581d697",
   "metadata": {
    "execution": {
     "iopub.execute_input": "2023-08-16T21:51:28.887288Z",
     "iopub.status.busy": "2023-08-16T21:51:28.886551Z",
     "iopub.status.idle": "2023-08-16T21:52:35.973172Z",
     "shell.execute_reply": "2023-08-16T21:52:35.972282Z"
    },
    "papermill": {
     "duration": 67.101053,
     "end_time": "2023-08-16T21:52:35.981211",
     "exception": false,
     "start_time": "2023-08-16T21:51:28.880158",
     "status": "completed"
    },
    "tags": []
   },
   "outputs": [
    {
     "name": "stdout",
     "output_type": "stream",
     "text": [
      "Accuracy:  0.5465465465465466\n"
     ]
    }
   ],
   "source": [
    "matches = 0\n",
    "for i, data in enumerate(val_loader, 0):\n",
    "    input, target = data\n",
    "    input = input.float()\n",
    "    output = net(input)\n",
    "    output = torch.argmax(output)\n",
    "    if target == output:\n",
    "        matches += 1\n",
    "print(\"Accuracy: \", matches/len(val_loader))"
   ]
  },
  {
   "cell_type": "markdown",
   "id": "2d082dab",
   "metadata": {},
   "source": [
    "We get accuracy slightly better than random chance."
   ]
  },
  {
   "cell_type": "code",
   "execution_count": 12,
   "id": "31082c7c",
   "metadata": {
    "execution": {
     "iopub.execute_input": "2023-08-16T21:52:35.994162Z",
     "iopub.status.busy": "2023-08-16T21:52:35.993768Z",
     "iopub.status.idle": "2023-08-16T21:52:36.068459Z",
     "shell.execute_reply": "2023-08-16T21:52:36.067179Z"
    },
    "papermill": {
     "duration": 0.083969,
     "end_time": "2023-08-16T21:52:36.071057",
     "exception": false,
     "start_time": "2023-08-16T21:52:35.987088",
     "status": "completed"
    },
    "tags": []
   },
   "outputs": [
    {
     "data": {
      "text/plain": [
       "tensor([[[ 0.6667,  0.6667,  0.6667,  ...,  0.6667,  0.6667,  0.6667],\n",
       "         [ 0.6667,  0.6667,  0.6667,  ...,  0.6667,  0.6667,  0.6667],\n",
       "         [ 0.6667,  0.6667,  0.6667,  ...,  0.6667,  0.6667,  0.6667],\n",
       "         ...,\n",
       "         [10.0000, 10.6667, 11.3333,  ...,  0.6667,  0.6667,  0.6667],\n",
       "         [13.6667, 14.0000,  9.6667,  ...,  0.6667,  0.6667,  0.6667],\n",
       "         [10.6667, 15.0000, 13.0000,  ...,  0.6667,  0.6667,  0.6667]],\n",
       "\n",
       "        [[ 0.6667,  0.6667,  0.6667,  ...,  0.6667,  0.6667,  0.6667],\n",
       "         [ 0.6667,  0.6667,  0.6667,  ...,  0.6667,  0.6667,  0.6667],\n",
       "         [ 0.6667,  0.6667,  0.6667,  ...,  0.6667,  0.6667,  0.6667],\n",
       "         ...,\n",
       "         [10.0000, 10.6667, 11.3333,  ...,  0.6667,  0.6667,  0.6667],\n",
       "         [13.6667, 14.0000,  9.6667,  ...,  0.6667,  0.6667,  0.6667],\n",
       "         [10.6667, 15.0000, 13.0000,  ...,  0.6667,  0.6667,  0.6667]],\n",
       "\n",
       "        [[ 0.6667,  0.6667,  0.6667,  ...,  0.6667,  0.6667,  0.6667],\n",
       "         [ 0.6667,  0.6667,  0.6667,  ...,  0.6667,  0.6667,  0.6667],\n",
       "         [ 0.6667,  0.6667,  0.6667,  ...,  0.6667,  0.6667,  0.6667],\n",
       "         ...,\n",
       "         [10.0000, 10.6667, 11.3333,  ...,  0.6667,  0.6667,  0.6667],\n",
       "         [13.6667, 14.0000,  9.6667,  ...,  0.6667,  0.6667,  0.6667],\n",
       "         [10.6667, 15.0000, 13.0000,  ...,  0.6667,  0.6667,  0.6667]]])"
      ]
     },
     "execution_count": 12,
     "metadata": {},
     "output_type": "execute_result"
    }
   ],
   "source": [
    "import matplotlib.pyplot as plt\n",
    "input, target = data\n",
    "input = input.float()\n",
    "F.normalize(input,0)[0]"
   ]
  }
 ],
 "metadata": {
  "kernelspec": {
   "display_name": "Python 3",
   "language": "python",
   "name": "python3"
  },
  "language_info": {
   "codemirror_mode": {
    "name": "ipython",
    "version": 3
   },
   "file_extension": ".py",
   "mimetype": "text/x-python",
   "name": "python",
   "nbconvert_exporter": "python",
   "pygments_lexer": "ipython3",
   "version": "3.10.12"
  },
  "papermill": {
   "default_parameters": {},
   "duration": 1825.128056,
   "end_time": "2023-08-16T21:52:37.504813",
   "environment_variables": {},
   "exception": null,
   "input_path": "__notebook__.ipynb",
   "output_path": "__notebook__.ipynb",
   "parameters": {},
   "start_time": "2023-08-16T21:22:12.376757",
   "version": "2.4.0"
  }
 },
 "nbformat": 4,
 "nbformat_minor": 5
}
