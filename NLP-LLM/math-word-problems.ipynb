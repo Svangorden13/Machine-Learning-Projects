{
 "cells": [
  {
   "cell_type": "code",
   "execution_count": 1,
   "id": "ac70ba62",
   "metadata": {
    "execution": {
     "iopub.execute_input": "2024-06-28T00:45:37.863291Z",
     "iopub.status.busy": "2024-06-28T00:45:37.863027Z",
     "iopub.status.idle": "2024-06-28T00:45:53.526610Z",
     "shell.execute_reply": "2024-06-28T00:45:53.525695Z"
    },
    "papermill": {
     "duration": 15.674765,
     "end_time": "2024-06-28T00:45:53.528879",
     "exception": false,
     "start_time": "2024-06-28T00:45:37.854114",
     "status": "completed"
    },
    "tags": []
   },
   "outputs": [
    {
     "name": "stdout",
     "output_type": "stream",
     "text": [
      "Cloning into '/kaggle/working/evaluate'...\r\n",
      "remote: Enumerating objects: 8404, done.\u001b[K\r\n",
      "remote: Counting objects: 100% (798/798), done.\u001b[K\r\n",
      "remote: Compressing objects: 100% (162/162), done.\u001b[K\r\n",
      "remote: Total 8404 (delta 669), reused 651 (delta 631), pack-reused 7606\u001b[K\r\n",
      "Receiving objects: 100% (8404/8404), 2.19 MiB | 9.81 MiB/s, done.\r\n",
      "Resolving deltas: 100% (5131/5131), done.\r\n",
      "Collecting evaluate\r\n",
      "  Downloading evaluate-0.4.2-py3-none-any.whl.metadata (9.3 kB)\r\n",
      "Requirement already satisfied: datasets>=2.0.0 in /opt/conda/lib/python3.10/site-packages (from evaluate) (2.18.0)\r\n",
      "Requirement already satisfied: numpy>=1.17 in /opt/conda/lib/python3.10/site-packages (from evaluate) (1.26.4)\r\n",
      "Requirement already satisfied: dill in /opt/conda/lib/python3.10/site-packages (from evaluate) (0.3.8)\r\n",
      "Requirement already satisfied: pandas in /opt/conda/lib/python3.10/site-packages (from evaluate) (2.1.4)\r\n",
      "Requirement already satisfied: requests>=2.19.0 in /opt/conda/lib/python3.10/site-packages (from evaluate) (2.31.0)\r\n",
      "Requirement already satisfied: tqdm>=4.62.1 in /opt/conda/lib/python3.10/site-packages (from evaluate) (4.66.1)\r\n",
      "Requirement already satisfied: xxhash in /opt/conda/lib/python3.10/site-packages (from evaluate) (3.4.1)\r\n",
      "Requirement already satisfied: multiprocess in /opt/conda/lib/python3.10/site-packages (from evaluate) (0.70.16)\r\n",
      "Requirement already satisfied: fsspec>=2021.05.0 in /opt/conda/lib/python3.10/site-packages (from fsspec[http]>=2021.05.0->evaluate) (2024.2.0)\r\n",
      "Requirement already satisfied: huggingface-hub>=0.7.0 in /opt/conda/lib/python3.10/site-packages (from evaluate) (0.22.2)\r\n",
      "Requirement already satisfied: packaging in /opt/conda/lib/python3.10/site-packages (from evaluate) (21.3)\r\n",
      "Requirement already satisfied: filelock in /opt/conda/lib/python3.10/site-packages (from datasets>=2.0.0->evaluate) (3.13.1)\r\n",
      "Requirement already satisfied: pyarrow>=12.0.0 in /opt/conda/lib/python3.10/site-packages (from datasets>=2.0.0->evaluate) (15.0.2)\r\n",
      "Requirement already satisfied: pyarrow-hotfix in /opt/conda/lib/python3.10/site-packages (from datasets>=2.0.0->evaluate) (0.6)\r\n",
      "Requirement already satisfied: aiohttp in /opt/conda/lib/python3.10/site-packages (from datasets>=2.0.0->evaluate) (3.9.1)\r\n",
      "Requirement already satisfied: pyyaml>=5.1 in /opt/conda/lib/python3.10/site-packages (from datasets>=2.0.0->evaluate) (6.0.1)\r\n",
      "Requirement already satisfied: typing-extensions>=3.7.4.3 in /opt/conda/lib/python3.10/site-packages (from huggingface-hub>=0.7.0->evaluate) (4.9.0)\r\n",
      "Requirement already satisfied: pyparsing!=3.0.5,>=2.0.2 in /opt/conda/lib/python3.10/site-packages (from packaging->evaluate) (3.1.1)\r\n",
      "Requirement already satisfied: charset-normalizer<4,>=2 in /opt/conda/lib/python3.10/site-packages (from requests>=2.19.0->evaluate) (3.3.2)\r\n",
      "Requirement already satisfied: idna<4,>=2.5 in /opt/conda/lib/python3.10/site-packages (from requests>=2.19.0->evaluate) (3.6)\r\n",
      "Requirement already satisfied: urllib3<3,>=1.21.1 in /opt/conda/lib/python3.10/site-packages (from requests>=2.19.0->evaluate) (1.26.18)\r\n",
      "Requirement already satisfied: certifi>=2017.4.17 in /opt/conda/lib/python3.10/site-packages (from requests>=2.19.0->evaluate) (2024.2.2)\r\n",
      "Requirement already satisfied: python-dateutil>=2.8.2 in /opt/conda/lib/python3.10/site-packages (from pandas->evaluate) (2.9.0.post0)\r\n",
      "Requirement already satisfied: pytz>=2020.1 in /opt/conda/lib/python3.10/site-packages (from pandas->evaluate) (2023.3.post1)\r\n",
      "Requirement already satisfied: tzdata>=2022.1 in /opt/conda/lib/python3.10/site-packages (from pandas->evaluate) (2023.4)\r\n",
      "Requirement already satisfied: attrs>=17.3.0 in /opt/conda/lib/python3.10/site-packages (from aiohttp->datasets>=2.0.0->evaluate) (23.2.0)\r\n",
      "Requirement already satisfied: multidict<7.0,>=4.5 in /opt/conda/lib/python3.10/site-packages (from aiohttp->datasets>=2.0.0->evaluate) (6.0.4)\r\n",
      "Requirement already satisfied: yarl<2.0,>=1.0 in /opt/conda/lib/python3.10/site-packages (from aiohttp->datasets>=2.0.0->evaluate) (1.9.3)\r\n",
      "Requirement already satisfied: frozenlist>=1.1.1 in /opt/conda/lib/python3.10/site-packages (from aiohttp->datasets>=2.0.0->evaluate) (1.4.1)\r\n",
      "Requirement already satisfied: aiosignal>=1.1.2 in /opt/conda/lib/python3.10/site-packages (from aiohttp->datasets>=2.0.0->evaluate) (1.3.1)\r\n",
      "Requirement already satisfied: async-timeout<5.0,>=4.0 in /opt/conda/lib/python3.10/site-packages (from aiohttp->datasets>=2.0.0->evaluate) (4.0.3)\r\n",
      "Requirement already satisfied: six>=1.5 in /opt/conda/lib/python3.10/site-packages (from python-dateutil>=2.8.2->pandas->evaluate) (1.16.0)\r\n",
      "Downloading evaluate-0.4.2-py3-none-any.whl (84 kB)\r\n",
      "\u001b[2K   \u001b[90m━━━━━━━━━━━━━━━━━━━━━━━━━━━━━━━━━━━━━━━━\u001b[0m \u001b[32m84.1/84.1 kB\u001b[0m \u001b[31m1.8 MB/s\u001b[0m eta \u001b[36m0:00:00\u001b[0m\r\n",
      "\u001b[?25hInstalling collected packages: evaluate\r\n",
      "Successfully installed evaluate-0.4.2\r\n"
     ]
    }
   ],
   "source": [
    "!git clone https://github.com/huggingface/evaluate.git /kaggle/working/evaluate\n",
    "!pip install evaluate"
   ]
  },
  {
   "cell_type": "code",
   "execution_count": 2,
   "id": "9359c285",
   "metadata": {
    "execution": {
     "iopub.execute_input": "2024-06-28T00:45:53.551276Z",
     "iopub.status.busy": "2024-06-28T00:45:53.550271Z",
     "iopub.status.idle": "2024-06-28T00:46:12.595326Z",
     "shell.execute_reply": "2024-06-28T00:46:12.594363Z"
    },
    "papermill": {
     "duration": 19.058275,
     "end_time": "2024-06-28T00:46:12.597676",
     "exception": false,
     "start_time": "2024-06-28T00:45:53.539401",
     "status": "completed"
    },
    "tags": []
   },
   "outputs": [
    {
     "name": "stderr",
     "output_type": "stream",
     "text": [
      "2024-06-28 00:46:02.067335: E external/local_xla/xla/stream_executor/cuda/cuda_dnn.cc:9261] Unable to register cuDNN factory: Attempting to register factory for plugin cuDNN when one has already been registered\n",
      "2024-06-28 00:46:02.067457: E external/local_xla/xla/stream_executor/cuda/cuda_fft.cc:607] Unable to register cuFFT factory: Attempting to register factory for plugin cuFFT when one has already been registered\n",
      "2024-06-28 00:46:02.201137: E external/local_xla/xla/stream_executor/cuda/cuda_blas.cc:1515] Unable to register cuBLAS factory: Attempting to register factory for plugin cuBLAS when one has already been registered\n"
     ]
    }
   ],
   "source": [
    "import pandas as pd\n",
    "import evaluate\n",
    "\n",
    "from datasets import Dataset\n",
    "from transformers import AutoTokenizer, AutoModelForSeq2SeqLM, Seq2SeqTrainingArguments, Seq2SeqTrainer, DataCollatorForSeq2Seq, models, BartForConditionalGeneration, BartConfig, PreTrainedTokenizerFast"
   ]
  },
  {
   "cell_type": "markdown",
   "id": "989d6050",
   "metadata": {
    "papermill": {
     "duration": 0.00956,
     "end_time": "2024-06-28T00:46:12.617478",
     "exception": false,
     "start_time": "2024-06-28T00:46:12.607918",
     "status": "completed"
    },
    "tags": []
   },
   "source": [
    "# Inspect Data"
   ]
  },
  {
   "cell_type": "markdown",
   "id": "5bb21abe",
   "metadata": {
    "papermill": {
     "duration": 0.009264,
     "end_time": "2024-06-28T00:46:12.636225",
     "exception": false,
     "start_time": "2024-06-28T00:46:12.626961",
     "status": "completed"
    },
    "tags": []
   },
   "source": [
    "Let $k, l > 0$ be parameters. The parabola $y = kx^2 - 2kx + l$ intersects the line $y = 4$ at two points $A$ and $B$. These points are distance 6 apart. What is the sum of the squares of the distances from $A$ and $B$ to the origin?"
   ]
  },
  {
   "cell_type": "code",
   "execution_count": 3,
   "id": "b2e8a2e4",
   "metadata": {
    "execution": {
     "iopub.execute_input": "2024-06-28T00:46:12.656598Z",
     "iopub.status.busy": "2024-06-28T00:46:12.656039Z",
     "iopub.status.idle": "2024-06-28T00:46:13.195216Z",
     "shell.execute_reply": "2024-06-28T00:46:13.194241Z"
    },
    "papermill": {
     "duration": 0.551515,
     "end_time": "2024-06-28T00:46:13.197233",
     "exception": false,
     "start_time": "2024-06-28T00:46:12.645718",
     "status": "completed"
    },
    "tags": []
   },
   "outputs": [
    {
     "data": {
      "text/html": [
       "<div>\n",
       "<style scoped>\n",
       "    .dataframe tbody tr th:only-of-type {\n",
       "        vertical-align: middle;\n",
       "    }\n",
       "\n",
       "    .dataframe tbody tr th {\n",
       "        vertical-align: top;\n",
       "    }\n",
       "\n",
       "    .dataframe thead th {\n",
       "        text-align: right;\n",
       "    }\n",
       "</style>\n",
       "<table border=\"1\" class=\"dataframe\">\n",
       "  <thead>\n",
       "    <tr style=\"text-align: right;\">\n",
       "      <th></th>\n",
       "      <th>Problem</th>\n",
       "    </tr>\n",
       "  </thead>\n",
       "  <tbody>\n",
       "    <tr>\n",
       "      <th>0</th>\n",
       "      <td>What is $1-1$?</td>\n",
       "    </tr>\n",
       "    <tr>\n",
       "      <th>1</th>\n",
       "      <td>What is $0\\times10$?</td>\n",
       "    </tr>\n",
       "    <tr>\n",
       "      <th>2</th>\n",
       "      <td>Solve $4+x=4$ for $x$.</td>\n",
       "    </tr>\n",
       "  </tbody>\n",
       "</table>\n",
       "</div>"
      ],
      "text/plain": [
       "                  Problem\n",
       "0          What is $1-1$?\n",
       "1    What is $0\\times10$?\n",
       "2  Solve $4+x=4$ for $x$."
      ]
     },
     "execution_count": 3,
     "metadata": {},
     "output_type": "execute_result"
    }
   ],
   "source": [
    "train = pd.read_csv(\"/kaggle/input/dataset-for-solving-math-word-problems/train.csv\")[[\"Problem\", \"linear_formula\"]]\n",
    "val = pd.read_csv(\"/kaggle/input/dataset-for-solving-math-word-problems/test.csv\")[[\"Problem\", \"linear_formula\"]]\n",
    "test = pd.read_csv(\"/kaggle/input/ai-mathematical-olympiad-prize/test.csv\")\n",
    "# train[\"answer\"] = train.answer.astype(str)\n",
    "# val = train.loc[8:9,:]\n",
    "# train = train.loc[0:7,:]\n",
    "# val\n",
    "train = train.rename({\"linear_formula\":\"Solution\"}, axis=1)\n",
    "val = val.rename({\"linear_formula\":\"Solution\"}, axis=1)\n",
    "test_problems = test[[\"problem\"]].rename({\"problem\":\"Problem\"}, axis=1)\n",
    "test_problems"
   ]
  },
  {
   "cell_type": "code",
   "execution_count": 4,
   "id": "292fa03a",
   "metadata": {
    "execution": {
     "iopub.execute_input": "2024-06-28T00:46:13.219943Z",
     "iopub.status.busy": "2024-06-28T00:46:13.219532Z",
     "iopub.status.idle": "2024-06-28T00:46:13.248558Z",
     "shell.execute_reply": "2024-06-28T00:46:13.247789Z"
    },
    "papermill": {
     "duration": 0.042866,
     "end_time": "2024-06-28T00:46:13.250328",
     "exception": false,
     "start_time": "2024-06-28T00:46:13.207462",
     "status": "completed"
    },
    "tags": []
   },
   "outputs": [],
   "source": [
    "soln_vocab = []\n",
    "solns = val[\"Solution\"].map(lambda x: x.replace(\"(\", \" \").replace(\",\", \" \").replace(\")\", \" \").replace(\"|\", \"| \").split())\n",
    "for soln in solns:\n",
    "    for word in soln:\n",
    "        if not word in soln_vocab:\n",
    "            soln_vocab.append(word)\n",
    "len(soln_vocab)\n",
    "with open(\"/kaggle/working/vocab.txt\", \"w\") as f:\n",
    "    for v in soln_vocab:\n",
    "        f.write(v+\" \")"
   ]
  },
  {
   "cell_type": "markdown",
   "id": "79db50d1",
   "metadata": {
    "papermill": {
     "duration": 0.009516,
     "end_time": "2024-06-28T00:46:13.270769",
     "exception": false,
     "start_time": "2024-06-28T00:46:13.261253",
     "status": "completed"
    },
    "tags": []
   },
   "source": [
    "# Process Data"
   ]
  },
  {
   "cell_type": "code",
   "execution_count": 5,
   "id": "e42c2635",
   "metadata": {
    "execution": {
     "iopub.execute_input": "2024-06-28T00:46:13.291510Z",
     "iopub.status.busy": "2024-06-28T00:46:13.291213Z",
     "iopub.status.idle": "2024-06-28T00:46:13.297389Z",
     "shell.execute_reply": "2024-06-28T00:46:13.296560Z"
    },
    "papermill": {
     "duration": 0.018755,
     "end_time": "2024-06-28T00:46:13.299198",
     "exception": false,
     "start_time": "2024-06-28T00:46:13.280443",
     "status": "completed"
    },
    "tags": []
   },
   "outputs": [],
   "source": [
    "from tokenizers import Tokenizer, models, pre_tokenizers, trainers, processors\n",
    "\n",
    "def generate_decode_tokenizer(vocab):\n",
    "    unk_token = \"<unk>\"\n",
    "\n",
    "    # Initialize a Byte-level BPE Tokenizer for decoding outputs\n",
    "    decoder_tokenizer = Tokenizer(models.BPE())\n",
    "\n",
    "    # Customize pre-tokenization to split on whitespace\n",
    "    decoder_tokenizer.pre_tokenizer = pre_tokenizers.ByteLevel()\n",
    "    \n",
    "    # Set post-processor\n",
    "    decoder_tokenizer.post_processor = processors.ByteLevel(trim_offsets=False)\n",
    "    \n",
    "    # Define the special tokens\n",
    "    special_tokens = [\"<s>\", \"</s>\", \"<pad>\", \"<unk>\"]\n",
    "\n",
    "    # Train the tokenizer on your vocabulary\n",
    "    #trainer = trainers.BpeTrainer(vocab_size=len(vocab)+len(special_tokens), special_tokens=special_tokens)\n",
    "    #decoder_tokenizer.train([\"/kaggle/working/vocab.txt\"], trainer)\n",
    "    decoder_tokenizer.add_tokens(vocab)\n",
    "    decoder_tokenizer.add_special_tokens(special_tokens)\n",
    "\n",
    "    # Save the decoder tokenizer\n",
    "    decoder_tokenizer.save(\"/kaggle/working/decoder_math_tokenizer.json\")\n",
    "\n",
    "    return decoder_tokenizer"
   ]
  },
  {
   "cell_type": "code",
   "execution_count": 6,
   "id": "2c5e46ec",
   "metadata": {
    "execution": {
     "iopub.execute_input": "2024-06-28T00:46:13.320815Z",
     "iopub.status.busy": "2024-06-28T00:46:13.320310Z",
     "iopub.status.idle": "2024-06-28T00:46:15.503387Z",
     "shell.execute_reply": "2024-06-28T00:46:15.502505Z"
    },
    "papermill": {
     "duration": 2.196096,
     "end_time": "2024-06-28T00:46:15.505491",
     "exception": false,
     "start_time": "2024-06-28T00:46:13.309395",
     "status": "completed"
    },
    "tags": []
   },
   "outputs": [
    {
     "data": {
      "text/plain": [
       "Embedding(113, 768, padding_idx=111)"
      ]
     },
     "execution_count": 6,
     "metadata": {},
     "output_type": "execute_result"
    }
   ],
   "source": [
    "batch_size=32\n",
    "\n",
    "# Convert to huggingface dataset\n",
    "train_ds = Dataset.from_pandas(train)\n",
    "val_ds = Dataset.from_pandas(val)\n",
    "test_ds = Dataset.from_pandas(test_problems)\n",
    "\n",
    "# Create tokenizers\n",
    "tokenizer = AutoTokenizer.from_pretrained(\"/kaggle/input/transformers/facebook-bart-base\")\n",
    "generate_decode_tokenizer(soln_vocab)\n",
    "decode_tokenizer = PreTrainedTokenizerFast(tokenizer_file=\"/kaggle/working/decoder_math_tokenizer.json\")\n",
    "decode_tokenizer.add_special_tokens({'pad_token': '<pad>', 'eos_token': '</s>', 'bos_token': '<s>', 'unk_token': '<unk>'})\n",
    "\n",
    "# Create a new BART configuration with the new vocabulary size\n",
    "config = BartConfig(\n",
    "    vocab_size=len(soln_vocab)+4,\n",
    "    max_position_embeddings=1024,\n",
    "    d_model=768,\n",
    "    encoder_layers=6,\n",
    "    encoder_ffn_dim=3072,\n",
    "    encoder_attention_heads=12,\n",
    "    decoder_layers=6,\n",
    "    decoder_ffn_dim=3072,\n",
    "    decoder_attention_heads=12,\n",
    "    activation_function=\"gelu\",\n",
    "    dropout=0.1,\n",
    "    attention_dropout=0.1,\n",
    "    classifier_dropout=0.0,\n",
    "    init_std=0.02,\n",
    "    encoder_layerdrop=0.0,\n",
    "    decoder_layerdrop=0.0,\n",
    "    scale_embedding=True,\n",
    "    use_cache=True,\n",
    "    pad_token_id=decode_tokenizer.pad_token_id,\n",
    "    bos_token_id=decode_tokenizer.bos_token_id,\n",
    "    eos_token_id=decode_tokenizer.eos_token_id,\n",
    ")\n",
    "\n",
    "# Load a pre-trained BART model with the new configuration\n",
    "model = BartForConditionalGeneration(config)\n",
    "model.resize_token_embeddings(len(soln_vocab)+4)"
   ]
  },
  {
   "cell_type": "code",
   "execution_count": 7,
   "id": "10c1fcb6",
   "metadata": {
    "execution": {
     "iopub.execute_input": "2024-06-28T00:46:15.527139Z",
     "iopub.status.busy": "2024-06-28T00:46:15.526424Z",
     "iopub.status.idle": "2024-06-28T00:46:15.535018Z",
     "shell.execute_reply": "2024-06-28T00:46:15.534186Z"
    },
    "papermill": {
     "duration": 0.021327,
     "end_time": "2024-06-28T00:46:15.536869",
     "exception": false,
     "start_time": "2024-06-28T00:46:15.515542",
     "status": "completed"
    },
    "tags": []
   },
   "outputs": [
    {
     "data": {
      "text/plain": [
       "{'input_ids': [], 'token_type_ids': [], 'attention_mask': []}"
      ]
     },
     "execution_count": 7,
     "metadata": {},
     "output_type": "execute_result"
    }
   ],
   "source": [
    "decode_tokenizer(\"Hello world\")"
   ]
  },
  {
   "cell_type": "code",
   "execution_count": 8,
   "id": "5cb69d10",
   "metadata": {
    "execution": {
     "iopub.execute_input": "2024-06-28T00:46:15.557748Z",
     "iopub.status.busy": "2024-06-28T00:46:15.557464Z",
     "iopub.status.idle": "2024-06-28T00:46:15.562566Z",
     "shell.execute_reply": "2024-06-28T00:46:15.561783Z"
    },
    "papermill": {
     "duration": 0.017502,
     "end_time": "2024-06-28T00:46:15.564382",
     "exception": false,
     "start_time": "2024-06-28T00:46:15.546880",
     "status": "completed"
    },
    "tags": []
   },
   "outputs": [
    {
     "data": {
      "text/plain": [
       "transformers.tokenization_utils_fast.PreTrainedTokenizerFast"
      ]
     },
     "execution_count": 8,
     "metadata": {},
     "output_type": "execute_result"
    }
   ],
   "source": [
    "type(decode_tokenizer)"
   ]
  },
  {
   "cell_type": "code",
   "execution_count": 9,
   "id": "bd3e8291",
   "metadata": {
    "execution": {
     "iopub.execute_input": "2024-06-28T00:46:15.587030Z",
     "iopub.status.busy": "2024-06-28T00:46:15.586779Z",
     "iopub.status.idle": "2024-06-28T00:46:15.594296Z",
     "shell.execute_reply": "2024-06-28T00:46:15.593503Z"
    },
    "papermill": {
     "duration": 0.02033,
     "end_time": "2024-06-28T00:46:15.596143",
     "exception": false,
     "start_time": "2024-06-28T00:46:15.575813",
     "status": "completed"
    },
    "tags": []
   },
   "outputs": [],
   "source": [
    "solns = solns.map(lambda x: \" \".join(x))"
   ]
  },
  {
   "cell_type": "code",
   "execution_count": 10,
   "id": "359e8cd8",
   "metadata": {
    "execution": {
     "iopub.execute_input": "2024-06-28T00:46:15.617265Z",
     "iopub.status.busy": "2024-06-28T00:46:15.616793Z",
     "iopub.status.idle": "2024-06-28T00:46:15.623304Z",
     "shell.execute_reply": "2024-06-28T00:46:15.622508Z"
    },
    "papermill": {
     "duration": 0.018999,
     "end_time": "2024-06-28T00:46:15.625095",
     "exception": false,
     "start_time": "2024-06-28T00:46:15.606096",
     "status": "completed"
    },
    "tags": []
   },
   "outputs": [],
   "source": [
    "def process_data_to_model_inputs(batch):\n",
    "    '''\n",
    "    Tokenize inputs and outputs for each batch\n",
    "    '''\n",
    "    inputs = tokenizer(batch[\"Problem\"], padding=True, truncation=True)\n",
    "    solns = [x.replace(\"(\", \" \").replace(\",\", \" \").replace(\")\", \" \").replace(\"|\", \"| \")\n",
    "             for x in batch[\"Solution\"]]\n",
    "    outputs = decode_tokenizer(solns, padding=True, truncation=True)\n",
    "    \n",
    "    batch[\"input_ids\"] = inputs.input_ids\n",
    "    batch[\"attention_mask\"] = inputs.attention_mask\n",
    "    batch[\"labels\"] = outputs.input_ids\n",
    "    \n",
    "    batch[\"labels\"] = [[-100 if token == tokenizer.pad_token_id else token for token in labels] for labels in batch[\"labels\"]]\n",
    "    \n",
    "    return batch"
   ]
  },
  {
   "cell_type": "code",
   "execution_count": 11,
   "id": "1d08f7c1",
   "metadata": {
    "execution": {
     "iopub.execute_input": "2024-06-28T00:46:15.646538Z",
     "iopub.status.busy": "2024-06-28T00:46:15.646032Z",
     "iopub.status.idle": "2024-06-28T00:46:15.650400Z",
     "shell.execute_reply": "2024-06-28T00:46:15.649616Z"
    },
    "papermill": {
     "duration": 0.017048,
     "end_time": "2024-06-28T00:46:15.652262",
     "exception": false,
     "start_time": "2024-06-28T00:46:15.635214",
     "status": "completed"
    },
    "tags": []
   },
   "outputs": [],
   "source": [
    "def process_test_data_to_model_inputs(batch):\n",
    "    inputs = tokenizer(batch[\"Problem\"], padding=True, truncation=True, return_tensors=\"pt\")\n",
    "    \n",
    "    batch[\"input_ids\"] = inputs.input_ids\n",
    "    batch[\"attention_mask\"] = inputs.attention_mask\n",
    "    \n",
    "    return batch"
   ]
  },
  {
   "cell_type": "code",
   "execution_count": 12,
   "id": "91d05d19",
   "metadata": {
    "execution": {
     "iopub.execute_input": "2024-06-28T00:46:15.674906Z",
     "iopub.status.busy": "2024-06-28T00:46:15.674623Z",
     "iopub.status.idle": "2024-06-28T00:46:25.390700Z",
     "shell.execute_reply": "2024-06-28T00:46:25.389881Z"
    },
    "papermill": {
     "duration": 9.730752,
     "end_time": "2024-06-28T00:46:25.393020",
     "exception": false,
     "start_time": "2024-06-28T00:46:15.662268",
     "status": "completed"
    },
    "tags": []
   },
   "outputs": [
    {
     "data": {
      "application/vnd.jupyter.widget-view+json": {
       "model_id": "c89a8702a16f417587a6393795eebb5e",
       "version_major": 2,
       "version_minor": 0
      },
      "text/plain": [
       "Map:   0%|          | 0/29837 [00:00<?, ? examples/s]"
      ]
     },
     "metadata": {},
     "output_type": "display_data"
    },
    {
     "name": "stderr",
     "output_type": "stream",
     "text": [
      "Asking to truncate to max_length but no maximum length is provided and the model has no predefined maximum length. Default to no truncation.\n",
      "Asking to truncate to max_length but no maximum length is provided and the model has no predefined maximum length. Default to no truncation.\n"
     ]
    },
    {
     "data": {
      "application/vnd.jupyter.widget-view+json": {
       "model_id": "21a7dcfa20f74e6e87258aabe5ae5a96",
       "version_major": 2,
       "version_minor": 0
      },
      "text/plain": [
       "Map:   0%|          | 0/2985 [00:00<?, ? examples/s]"
      ]
     },
     "metadata": {},
     "output_type": "display_data"
    },
    {
     "data": {
      "application/vnd.jupyter.widget-view+json": {
       "model_id": "26b7b84edcb448d9945b92b3aed343ca",
       "version_major": 2,
       "version_minor": 0
      },
      "text/plain": [
       "Map:   0%|          | 0/3 [00:00<?, ? examples/s]"
      ]
     },
     "metadata": {},
     "output_type": "display_data"
    }
   ],
   "source": [
    "# Tokenize train data\n",
    "train_data = train_ds.map(\n",
    "    process_data_to_model_inputs,\n",
    "    batched=True,\n",
    "    batch_size=batch_size,\n",
    "    remove_columns=[\"Problem\", \"Solution\"]\n",
    ")\n",
    "train_data.set_format(type=\"torch\")\n",
    "\n",
    "# Tokenize validation data\n",
    "val_data = val_ds.map(\n",
    "    process_data_to_model_inputs,\n",
    "    batched=True,\n",
    "    batch_size=batch_size,\n",
    "    remove_columns=[\"Problem\", \"Solution\"]\n",
    ")\n",
    "val_data.set_format(type=\"torch\")\n",
    "\n",
    "# Tokenize validation data\n",
    "test_data = test_ds.map(\n",
    "    process_test_data_to_model_inputs,\n",
    "    batched=True,\n",
    "    batch_size=batch_size,\n",
    "    remove_columns=[\"Problem\"]\n",
    ")\n",
    "test_data.set_format(type=\"torch\")"
   ]
  },
  {
   "cell_type": "markdown",
   "id": "d950c4e5",
   "metadata": {
    "papermill": {
     "duration": 0.010551,
     "end_time": "2024-06-28T00:46:25.415062",
     "exception": false,
     "start_time": "2024-06-28T00:46:25.404511",
     "status": "completed"
    },
    "tags": []
   },
   "source": [
    "# Create Model"
   ]
  },
  {
   "cell_type": "code",
   "execution_count": 13,
   "id": "29bb50ef",
   "metadata": {
    "execution": {
     "iopub.execute_input": "2024-06-28T00:46:25.437696Z",
     "iopub.status.busy": "2024-06-28T00:46:25.437398Z",
     "iopub.status.idle": "2024-06-28T00:46:32.749902Z",
     "shell.execute_reply": "2024-06-28T00:46:32.749074Z"
    },
    "papermill": {
     "duration": 7.326262,
     "end_time": "2024-06-28T00:46:32.752142",
     "exception": false,
     "start_time": "2024-06-28T00:46:25.425880",
     "status": "completed"
    },
    "tags": []
   },
   "outputs": [
    {
     "name": "stderr",
     "output_type": "stream",
     "text": [
      "/opt/conda/lib/python3.10/site-packages/torch/_utils.py:831: UserWarning: TypedStorage is deprecated. It will be removed in the future and UntypedStorage will be the only storage class. This should only matter to you if you are using storages directly.  To access UntypedStorage directly, use tensor.untyped_storage() instead of tensor.storage()\n",
      "  return self.fget.__get__(instance, owner)()\n"
     ]
    }
   ],
   "source": [
    "model = AutoModelForSeq2SeqLM.from_pretrained(\"/kaggle/input/transformers/facebook-bart-base\")"
   ]
  },
  {
   "cell_type": "markdown",
   "id": "793008ca",
   "metadata": {
    "papermill": {
     "duration": 0.010802,
     "end_time": "2024-06-28T00:46:32.774315",
     "exception": false,
     "start_time": "2024-06-28T00:46:32.763513",
     "status": "completed"
    },
    "tags": []
   },
   "source": [
    "# Train Model"
   ]
  },
  {
   "cell_type": "code",
   "execution_count": 14,
   "id": "8c509e5c",
   "metadata": {
    "execution": {
     "iopub.execute_input": "2024-06-28T00:46:32.796910Z",
     "iopub.status.busy": "2024-06-28T00:46:32.796590Z",
     "iopub.status.idle": "2024-06-28T00:46:33.374810Z",
     "shell.execute_reply": "2024-06-28T00:46:33.373917Z"
    },
    "papermill": {
     "duration": 0.591827,
     "end_time": "2024-06-28T00:46:33.376798",
     "exception": false,
     "start_time": "2024-06-28T00:46:32.784971",
     "status": "completed"
    },
    "tags": []
   },
   "outputs": [
    {
     "data": {
      "application/vnd.jupyter.widget-view+json": {
       "model_id": "8cd847bd046844c1a134c9a5103af9d0",
       "version_major": 2,
       "version_minor": 0
      },
      "text/plain": [
       "Downloading builder script:   0%|          | 0.00/6.47k [00:00<?, ?B/s]"
      ]
     },
     "metadata": {},
     "output_type": "display_data"
    },
    {
     "data": {
      "application/vnd.jupyter.widget-view+json": {
       "model_id": "0ff20dc11f404aa5b2c74eae48020011",
       "version_major": 2,
       "version_minor": 0
      },
      "text/plain": [
       "Downloading extra modules:   0%|          | 0.00/11.3k [00:00<?, ?B/s]"
      ]
     },
     "metadata": {},
     "output_type": "display_data"
    }
   ],
   "source": [
    "metric = evaluate.load(\"squad_v2\")\n",
    "#metric = evaluate.load(\"/kaggle/working/evaluate/metrics/accuracy/accuracy.py\")\n",
    "def compute_metrics(eval_pred):\n",
    "    preds, labels = eval_pred\n",
    "    labels = labels[:, 1:],reshape(-1)\n",
    "    preds = preds[:, :-1].reshape(-1)\n",
    "    return metric.compute(predictions=preds, references=labels)"
   ]
  },
  {
   "cell_type": "code",
   "execution_count": 15,
   "id": "13db2324",
   "metadata": {
    "execution": {
     "iopub.execute_input": "2024-06-28T00:46:33.401534Z",
     "iopub.status.busy": "2024-06-28T00:46:33.401240Z",
     "iopub.status.idle": "2024-06-28T00:46:33.485301Z",
     "shell.execute_reply": "2024-06-28T00:46:33.484383Z"
    },
    "papermill": {
     "duration": 0.098878,
     "end_time": "2024-06-28T00:46:33.487211",
     "exception": false,
     "start_time": "2024-06-28T00:46:33.388333",
     "status": "completed"
    },
    "tags": []
   },
   "outputs": [],
   "source": [
    "import torch\n",
    "device = torch.device(\"cuda\" if torch.cuda.is_available() else \"cpu\")"
   ]
  },
  {
   "cell_type": "code",
   "execution_count": 16,
   "id": "0bd07a7e",
   "metadata": {
    "execution": {
     "iopub.execute_input": "2024-06-28T00:46:33.511081Z",
     "iopub.status.busy": "2024-06-28T00:46:33.510822Z",
     "iopub.status.idle": "2024-06-28T01:24:18.407830Z",
     "shell.execute_reply": "2024-06-28T01:24:18.406902Z"
    },
    "papermill": {
     "duration": 2264.911162,
     "end_time": "2024-06-28T01:24:18.409996",
     "exception": false,
     "start_time": "2024-06-28T00:46:33.498834",
     "status": "completed"
    },
    "tags": []
   },
   "outputs": [
    {
     "name": "stderr",
     "output_type": "stream",
     "text": [
      "/opt/conda/lib/python3.10/site-packages/accelerate/accelerator.py:436: FutureWarning: Passing the following arguments to `Accelerator` is deprecated and will be removed in version 1.0 of Accelerate: dict_keys(['dispatch_batches', 'split_batches', 'even_batches', 'use_seedable_sampler']). Please pass an `accelerate.DataLoaderConfiguration` instead: \n",
      "dataloader_config = DataLoaderConfiguration(dispatch_batches=None, split_batches=False, even_batches=True, use_seedable_sampler=True)\n",
      "  warnings.warn(\n",
      "/opt/conda/lib/python3.10/site-packages/torch/nn/parallel/_functions.py:68: UserWarning: Was asked to gather along dimension 0, but all input tensors were scalars; will instead unsqueeze and return a vector.\n",
      "  warnings.warn('Was asked to gather along dimension 0, but all '\n"
     ]
    },
    {
     "data": {
      "text/html": [
       "\n",
       "    <div>\n",
       "      \n",
       "      <progress value='5595' max='5595' style='width:300px; height:20px; vertical-align: middle;'></progress>\n",
       "      [5595/5595 37:40, Epoch 3/3]\n",
       "    </div>\n",
       "    <table border=\"1\" class=\"dataframe\">\n",
       "  <thead>\n",
       " <tr style=\"text-align: left;\">\n",
       "      <th>Epoch</th>\n",
       "      <th>Training Loss</th>\n",
       "      <th>Validation Loss</th>\n",
       "    </tr>\n",
       "  </thead>\n",
       "  <tbody>\n",
       "    <tr>\n",
       "      <td>1</td>\n",
       "      <td>0.413300</td>\n",
       "      <td>0.338499</td>\n",
       "    </tr>\n",
       "    <tr>\n",
       "      <td>2</td>\n",
       "      <td>0.305400</td>\n",
       "      <td>0.255534</td>\n",
       "    </tr>\n",
       "    <tr>\n",
       "      <td>3</td>\n",
       "      <td>0.239700</td>\n",
       "      <td>0.223144</td>\n",
       "    </tr>\n",
       "  </tbody>\n",
       "</table><p>"
      ],
      "text/plain": [
       "<IPython.core.display.HTML object>"
      ]
     },
     "metadata": {},
     "output_type": "display_data"
    },
    {
     "data": {
      "text/plain": [
       "TrainOutput(global_step=5595, training_loss=0.35356394688501436, metrics={'train_runtime': 2264.247, 'train_samples_per_second': 39.532, 'train_steps_per_second': 2.471, 'total_flos': 7585484166973440.0, 'train_loss': 0.35356394688501436, 'epoch': 3.0})"
      ]
     },
     "execution_count": 16,
     "metadata": {},
     "output_type": "execute_result"
    }
   ],
   "source": [
    "from transformers import Trainer, TrainingArguments\n",
    "\n",
    "training_args = TrainingArguments(output_dir=\"/kaggle/working\",\n",
    "                                         evaluation_strategy=\"epoch\",\n",
    "                                         num_train_epochs=3,\n",
    "                                         push_to_hub=False,\n",
    "                                         report_to=\"none\",\n",
    "                                         save_strategy=\"no\")\n",
    "trainer = Trainer(model,\n",
    "                         training_args,\n",
    "                         train_dataset=train_data,\n",
    "                         eval_dataset=val_data,\n",
    "                         data_collator=DataCollatorForSeq2Seq(tokenizer))\n",
    "trainer.train()"
   ]
  },
  {
   "cell_type": "code",
   "execution_count": 17,
   "id": "de58b3e3",
   "metadata": {
    "execution": {
     "iopub.execute_input": "2024-06-28T01:24:18.437105Z",
     "iopub.status.busy": "2024-06-28T01:24:18.436048Z",
     "iopub.status.idle": "2024-06-28T01:24:51.159942Z",
     "shell.execute_reply": "2024-06-28T01:24:51.158972Z"
    },
    "papermill": {
     "duration": 32.749696,
     "end_time": "2024-06-28T01:24:51.172953",
     "exception": false,
     "start_time": "2024-06-28T01:24:18.423257",
     "status": "completed"
    },
    "tags": []
   },
   "outputs": [
    {
     "name": "stderr",
     "output_type": "stream",
     "text": [
      "Some non-default generation parameters are set in the model config. These should go into a GenerationConfig file (https://huggingface.co/docs/transformers/generation_strategies#save-a-custom-decoding-strategy-with-your-model) instead. This warning will be raised to an exception in v4.41.\n",
      "Non-default generation parameters: {'early_stopping': True, 'num_beams': 4, 'no_repeat_ngram_size': 3, 'forced_eos_token_id': 2}\n"
     ]
    },
    {
     "data": {
      "text/plain": [
       "'/kaggle/working/saved/model.zip'"
      ]
     },
     "execution_count": 17,
     "metadata": {},
     "output_type": "execute_result"
    }
   ],
   "source": [
    "import shutil\n",
    "trainer.save_model(\"/kaggle/working/model\")\n",
    "shutil.make_archive(\"/kaggle/working/saved/model\", \"zip\", \"/kaggle/working/model\")"
   ]
  },
  {
   "cell_type": "code",
   "execution_count": 18,
   "id": "b64fb209",
   "metadata": {
    "execution": {
     "iopub.execute_input": "2024-06-28T01:24:51.197781Z",
     "iopub.status.busy": "2024-06-28T01:24:51.197449Z",
     "iopub.status.idle": "2024-06-28T01:24:54.948065Z",
     "shell.execute_reply": "2024-06-28T01:24:54.947227Z"
    },
    "papermill": {
     "duration": 3.765484,
     "end_time": "2024-06-28T01:24:54.950368",
     "exception": false,
     "start_time": "2024-06-28T01:24:51.184884",
     "status": "completed"
    },
    "tags": []
   },
   "outputs": [],
   "source": [
    "model = AutoModelForSeq2SeqLM.from_pretrained(\"/kaggle/input/mwp-model\")"
   ]
  },
  {
   "cell_type": "code",
   "execution_count": 19,
   "id": "4b274683",
   "metadata": {
    "execution": {
     "iopub.execute_input": "2024-06-28T01:24:54.975906Z",
     "iopub.status.busy": "2024-06-28T01:24:54.975579Z",
     "iopub.status.idle": "2024-06-28T01:24:55.169306Z",
     "shell.execute_reply": "2024-06-28T01:24:55.168564Z"
    },
    "papermill": {
     "duration": 0.208883,
     "end_time": "2024-06-28T01:24:55.171424",
     "exception": false,
     "start_time": "2024-06-28T01:24:54.962541",
     "status": "completed"
    },
    "tags": []
   },
   "outputs": [],
   "source": [
    "import torch\n",
    "from torch import device\n",
    "import numpy as np\n",
    "td = tokenizer(val_ds[\"Problem\"][0:10], truncation=True, padding=True, return_tensors=\"pt\")\n",
    "td.to(device(\"cuda\"))\n",
    "cuda_model = model.to(device(\"cuda\"))\n",
    "with torch.no_grad():\n",
    "    out = cuda_model(**td)"
   ]
  },
  {
   "cell_type": "code",
   "execution_count": 20,
   "id": "38254c3b",
   "metadata": {
    "execution": {
     "iopub.execute_input": "2024-06-28T01:24:55.198336Z",
     "iopub.status.busy": "2024-06-28T01:24:55.197803Z",
     "iopub.status.idle": "2024-06-28T01:24:55.203707Z",
     "shell.execute_reply": "2024-06-28T01:24:55.202900Z"
    },
    "papermill": {
     "duration": 0.021581,
     "end_time": "2024-06-28T01:24:55.205788",
     "exception": false,
     "start_time": "2024-06-28T01:24:55.184207",
     "status": "completed"
    },
    "tags": []
   },
   "outputs": [
    {
     "data": {
      "text/plain": [
       "{'Problem': 'a shopkeeper sold an article offering a discount of 5 % and earned a profit of 31.1 % . what would have been the percentage of profit earned if no discount had been offered ?',\n",
       " 'Solution': 'add(n1,const_100)|subtract(const_100,n0)|multiply(#0,const_100)|divide(#2,#1)|subtract(#3,const_100)|'}"
      ]
     },
     "execution_count": 20,
     "metadata": {},
     "output_type": "execute_result"
    }
   ],
   "source": [
    "val_ds[0]"
   ]
  },
  {
   "cell_type": "code",
   "execution_count": 21,
   "id": "27719691",
   "metadata": {
    "execution": {
     "iopub.execute_input": "2024-06-28T01:24:55.232592Z",
     "iopub.status.busy": "2024-06-28T01:24:55.232048Z",
     "iopub.status.idle": "2024-06-28T01:24:59.049144Z",
     "shell.execute_reply": "2024-06-28T01:24:59.048135Z"
    },
    "papermill": {
     "duration": 3.833016,
     "end_time": "2024-06-28T01:24:59.051213",
     "exception": false,
     "start_time": "2024-06-28T01:24:55.218197",
     "status": "completed"
    },
    "tags": []
   },
   "outputs": [
    {
     "name": "stdout",
     "output_type": "stream",
     "text": [
      "0\n",
      "4917\n",
      "20836\n",
      "1215\n",
      "1640\n",
      "20836\n",
      "1566\n",
      "1640\n",
      "10\n",
      "6720\n",
      "1640\n",
      "20836\n",
      "6\n",
      "6\n",
      "20836\n",
      "282\n",
      "282\n",
      "49275\n",
      "282\n",
      "49275\n",
      "288\n",
      "49275\n",
      "49275\n",
      "42527\n",
      "3249\n",
      "33\n",
      "1102\n",
      "4917\n",
      "34545\n",
      "1640\n",
      "5\n",
      "1640\n",
      "114\n",
      "10936\n",
      "10936\n",
      "1640\n",
      "57\n",
      "1661\n",
      "1640\n",
      "42527\n",
      "2\n",
      "1640\n",
      "1640\n",
      "1640\n",
      "1640\n",
      "1640\n",
      "1640\n",
      "1640\n",
      "1640\n",
      "1640\n",
      "1640\n",
      "1640\n",
      "1640\n",
      "1640\n",
      "1640\n",
      "1640\n",
      "1640\n",
      "1640\n",
      "1640\n",
      "1640\n",
      "1640\n",
      "1640\n",
      "1640\n",
      "1640\n",
      "1640\n",
      "1640\n",
      "1640\n",
      "1640\n",
      "1640\n",
      "1640\n",
      "1640\n",
      "1640\n",
      "1640\n",
      "4791\n",
      "1640\n",
      "1640\n",
      "1640\n",
      "1640\n",
      "1640\n",
      "4791\n",
      "4791\n",
      "1640\n",
      "1640\n",
      "1640\n",
      "1640\n",
      "4791\n",
      "4791\n",
      "1640\n",
      "4791\n",
      "1640\n",
      "4791\n",
      "1640\n"
     ]
    }
   ],
   "source": [
    "for i in range(len(out.logits.cpu().detach().numpy()[0])):\n",
    "    print(np.argmax(out.logits.cpu().detach().numpy()[0][i]))"
   ]
  },
  {
   "cell_type": "code",
   "execution_count": 22,
   "id": "5daa408c",
   "metadata": {
    "execution": {
     "iopub.execute_input": "2024-06-28T01:24:59.080595Z",
     "iopub.status.busy": "2024-06-28T01:24:59.080321Z",
     "iopub.status.idle": "2024-06-28T01:24:59.129832Z",
     "shell.execute_reply": "2024-06-28T01:24:59.128934Z"
    },
    "papermill": {
     "duration": 0.065726,
     "end_time": "2024-06-28T01:24:59.131760",
     "exception": false,
     "start_time": "2024-06-28T01:24:59.066034",
     "status": "completed"
    },
    "tags": []
   },
   "outputs": [
    {
     "data": {
      "text/plain": [
       "'add        #1    multiply multiply            gcd     n0      speed    const_100                                                    '"
      ]
     },
     "execution_count": 22,
     "metadata": {},
     "output_type": "execute_result"
    }
   ],
   "source": [
    "answer = \"\"\n",
    "for this in out.logits.cpu().detach().numpy()[0]:\n",
    "    answer += decode_tokenizer.decode(np.argmax(this)) + \" \"\n",
    "answer"
   ]
  },
  {
   "cell_type": "code",
   "execution_count": 23,
   "id": "1968c272",
   "metadata": {
    "execution": {
     "iopub.execute_input": "2024-06-28T01:24:59.160009Z",
     "iopub.status.busy": "2024-06-28T01:24:59.159745Z",
     "iopub.status.idle": "2024-06-28T01:24:59.168382Z",
     "shell.execute_reply": "2024-06-28T01:24:59.167598Z"
    },
    "papermill": {
     "duration": 0.024662,
     "end_time": "2024-06-28T01:24:59.170173",
     "exception": false,
     "start_time": "2024-06-28T01:24:59.145511",
     "status": "completed"
    },
    "tags": []
   },
   "outputs": [
    {
     "data": {
      "text/plain": [
       "{'volume_cube': 70,\n",
       " 'quadrilateral_area': 88,\n",
       " 'n8': 79,\n",
       " 'n16': 82,\n",
       " 'n5': 32,\n",
       " 'n14': 98,\n",
       " 'lcm': 67,\n",
       " '#5': 16,\n",
       " 'power': 14,\n",
       " '|': 3,\n",
       " 'const_360': 78,\n",
       " 'surface_cylinder': 81,\n",
       " '#7': 34,\n",
       " 'n23': 83,\n",
       " 'const_3_6': 60,\n",
       " 'negate_prob': 87,\n",
       " '#17': 101,\n",
       " 'inverse': 46,\n",
       " 'max': 84,\n",
       " 'reminder': 63,\n",
       " 'n2': 13,\n",
       " 'floor': 25,\n",
       " 'const_52': 72,\n",
       " 'gcd': 33,\n",
       " 'rhombus_area': 106,\n",
       " 'const_0_33': 61,\n",
       " 'const_0_6': 107,\n",
       " '#13': 42,\n",
       " 'const_2.0': 18,\n",
       " 'rectangle_area': 65,\n",
       " 'n6': 35,\n",
       " 'multiply': 6,\n",
       " 'n1': 1,\n",
       " 'const_10': 27,\n",
       " 'divide': 8,\n",
       " '<unk>': 112,\n",
       " 'cube_edge_by_volume': 69,\n",
       " 'n7': 51,\n",
       " 'const_5': 50,\n",
       " 'const_6': 59,\n",
       " '#21': 104,\n",
       " 'log': 58,\n",
       " 'const_1000': 29,\n",
       " 'const_3.0': 19,\n",
       " 'const_1': 12,\n",
       " '<s>': 109,\n",
       " 'volume_sphere': 95,\n",
       " 'circle_area': 21,\n",
       " 'const_180': 94,\n",
       " 'speed': 57,\n",
       " 'const_60': 49,\n",
       " 'square_area': 74,\n",
       " '#15': 44,\n",
       " '#1': 10,\n",
       " '#10': 37,\n",
       " 'rectangle_perimeter': 91,\n",
       " 'min': 96,\n",
       " 'triangle_area': 93,\n",
       " '#18': 105,\n",
       " 'square_edge_by_perimeter': 108,\n",
       " 'const_0.5': 90,\n",
       " 'circumface': 64,\n",
       " 'n0': 5,\n",
       " 'subtract': 4,\n",
       " 'permutation': 86,\n",
       " '#0': 7,\n",
       " 'const_0_2778': 28,\n",
       " '#2': 9,\n",
       " 'const_0_25': 62,\n",
       " 'const_60.0': 99,\n",
       " 'const_pi': 71,\n",
       " 'choose': 47,\n",
       " 'volume_cone': 75,\n",
       " 'square_edge_by_area': 53,\n",
       " '#19': 102,\n",
       " 'surface_rectangular_prism': 85,\n",
       " 'negate': 20,\n",
       " '#8': 41,\n",
       " '#12': 40,\n",
       " '#20': 103,\n",
       " 'factorial': 55,\n",
       " '#9': 38,\n",
       " '</s>': 110,\n",
       " '#16': 45,\n",
       " 'const_2': 26,\n",
       " 'volume_rectangular_prism': 92,\n",
       " 'square_perimeter': 54,\n",
       " 'stream_speed': 100,\n",
       " 'n10': 68,\n",
       " 'const_3': 36,\n",
       " '<pad>': 111,\n",
       " 'surface_cube': 80,\n",
       " 'const_3600': 30,\n",
       " 'const_12': 52,\n",
       " 'add': 0,\n",
       " 'volume_cylinder': 22,\n",
       " 'const_100': 2,\n",
       " 'const_1_6': 97,\n",
       " '#11': 39,\n",
       " 'const_100.0': 77,\n",
       " '#14': 43,\n",
       " 'const_4.0': 66,\n",
       " '#6': 17,\n",
       " '#4': 15,\n",
       " 'n4': 31,\n",
       " 'n3': 23,\n",
       " 'triangle_area_three_edges': 56,\n",
       " '#3': 11,\n",
       " 'sqrt': 24,\n",
       " 'triangle_perimeter': 89,\n",
       " 'n11': 73,\n",
       " 'const_4': 48,\n",
       " 'n9': 76}"
      ]
     },
     "execution_count": 23,
     "metadata": {},
     "output_type": "execute_result"
    }
   ],
   "source": [
    "decode_tokenizer.get_vocab()"
   ]
  }
 ],
 "metadata": {
  "kaggle": {
   "accelerator": "nvidiaTeslaT4",
   "dataSources": [
    {
     "databundleVersionId": 8365361,
     "sourceId": 73231,
     "sourceType": "competition"
    },
    {
     "datasetId": 1455358,
     "sourceId": 2468672,
     "sourceType": "datasetVersion"
    },
    {
     "datasetId": 2660570,
     "sourceId": 4558410,
     "sourceType": "datasetVersion"
    },
    {
     "datasetId": 4999741,
     "sourceId": 8402644,
     "sourceType": "datasetVersion"
    },
    {
     "datasetId": 5031469,
     "sourceId": 8444229,
     "sourceType": "datasetVersion"
    },
    {
     "sourceId": 48554359,
     "sourceType": "kernelVersion"
    }
   ],
   "dockerImageVersionId": 30699,
   "isGpuEnabled": true,
   "isInternetEnabled": true,
   "language": "python",
   "sourceType": "notebook"
  },
  "kernelspec": {
   "display_name": "Python 3",
   "language": "python",
   "name": "python3"
  },
  "language_info": {
   "codemirror_mode": {
    "name": "ipython",
    "version": 3
   },
   "file_extension": ".py",
   "mimetype": "text/x-python",
   "name": "python",
   "nbconvert_exporter": "python",
   "pygments_lexer": "ipython3",
   "version": "3.10.13"
  },
  "papermill": {
   "default_parameters": {},
   "duration": 2367.046724,
   "end_time": "2024-06-28T01:25:02.147291",
   "environment_variables": {},
   "exception": null,
   "input_path": "__notebook__.ipynb",
   "output_path": "__notebook__.ipynb",
   "parameters": {},
   "start_time": "2024-06-28T00:45:35.100567",
   "version": "2.5.0"
  },
  "widgets": {
   "application/vnd.jupyter.widget-state+json": {
    "state": {
     "0172603c1e4a40478b25f154f9eb94c7": {
      "model_module": "@jupyter-widgets/controls",
      "model_module_version": "1.5.0",
      "model_name": "HTMLModel",
      "state": {
       "_dom_classes": [],
       "_model_module": "@jupyter-widgets/controls",
       "_model_module_version": "1.5.0",
       "_model_name": "HTMLModel",
       "_view_count": null,
       "_view_module": "@jupyter-widgets/controls",
       "_view_module_version": "1.5.0",
       "_view_name": "HTMLView",
       "description": "",
       "description_tooltip": null,
       "layout": "IPY_MODEL_f93c94dc2a9b41e8aaa7b33017fd92d2",
       "placeholder": "​",
       "style": "IPY_MODEL_96745eb92cda4492840f83aef99aafed",
       "value": "Map: 100%"
      }
     },
     "0bef1afc97c74e619e7cbbb0f3c9af92": {
      "model_module": "@jupyter-widgets/controls",
      "model_module_version": "1.5.0",
      "model_name": "HTMLModel",
      "state": {
       "_dom_classes": [],
       "_model_module": "@jupyter-widgets/controls",
       "_model_module_version": "1.5.0",
       "_model_name": "HTMLModel",
       "_view_count": null,
       "_view_module": "@jupyter-widgets/controls",
       "_view_module_version": "1.5.0",
       "_view_name": "HTMLView",
       "description": "",
       "description_tooltip": null,
       "layout": "IPY_MODEL_a3c05dc27d6c4bc3ae2200b7aff42f66",
       "placeholder": "​",
       "style": "IPY_MODEL_2ff56e6309ee403ba0fac641f9e000eb",
       "value": "Downloading builder script: 100%"
      }
     },
     "0f7eb432cb7d46cfa8bd1fea2d1b2364": {
      "model_module": "@jupyter-widgets/controls",
      "model_module_version": "1.5.0",
      "model_name": "FloatProgressModel",
      "state": {
       "_dom_classes": [],
       "_model_module": "@jupyter-widgets/controls",
       "_model_module_version": "1.5.0",
       "_model_name": "FloatProgressModel",
       "_view_count": null,
       "_view_module": "@jupyter-widgets/controls",
       "_view_module_version": "1.5.0",
       "_view_name": "ProgressView",
       "bar_style": "success",
       "description": "",
       "description_tooltip": null,
       "layout": "IPY_MODEL_80a7f03c3c714ae2bcab88d6c5d8817f",
       "max": 2985.0,
       "min": 0.0,
       "orientation": "horizontal",
       "style": "IPY_MODEL_6a7a7d8a7a614f12b63a2af61f77eb14",
       "value": 2985.0
      }
     },
     "0ff20dc11f404aa5b2c74eae48020011": {
      "model_module": "@jupyter-widgets/controls",
      "model_module_version": "1.5.0",
      "model_name": "HBoxModel",
      "state": {
       "_dom_classes": [],
       "_model_module": "@jupyter-widgets/controls",
       "_model_module_version": "1.5.0",
       "_model_name": "HBoxModel",
       "_view_count": null,
       "_view_module": "@jupyter-widgets/controls",
       "_view_module_version": "1.5.0",
       "_view_name": "HBoxView",
       "box_style": "",
       "children": [
        "IPY_MODEL_4c80ead87c984d1b94326c91240877cb",
        "IPY_MODEL_55d373deb4da4c0cb2de7e69b0c2287a",
        "IPY_MODEL_7d4746e83d984dfea782ab0bc3ffb783"
       ],
       "layout": "IPY_MODEL_8092c64acf904b968833cf0b508aaa0d"
      }
     },
     "1bf94a524e4844019010fa60db898288": {
      "model_module": "@jupyter-widgets/controls",
      "model_module_version": "1.5.0",
      "model_name": "DescriptionStyleModel",
      "state": {
       "_model_module": "@jupyter-widgets/controls",
       "_model_module_version": "1.5.0",
       "_model_name": "DescriptionStyleModel",
       "_view_count": null,
       "_view_module": "@jupyter-widgets/base",
       "_view_module_version": "1.2.0",
       "_view_name": "StyleView",
       "description_width": ""
      }
     },
     "1cd9387413454df2acc8e92bc294429d": {
      "model_module": "@jupyter-widgets/controls",
      "model_module_version": "1.5.0",
      "model_name": "HTMLModel",
      "state": {
       "_dom_classes": [],
       "_model_module": "@jupyter-widgets/controls",
       "_model_module_version": "1.5.0",
       "_model_name": "HTMLModel",
       "_view_count": null,
       "_view_module": "@jupyter-widgets/controls",
       "_view_module_version": "1.5.0",
       "_view_name": "HTMLView",
       "description": "",
       "description_tooltip": null,
       "layout": "IPY_MODEL_883b898d6325491991cbd1765b36f0c7",
       "placeholder": "​",
       "style": "IPY_MODEL_3db93652165240aaae96d528c0f0aee4",
       "value": " 29837/29837 [00:08&lt;00:00, 3474.68 examples/s]"
      }
     },
     "1e706e9f7aa74dae82973ba21a34467e": {
      "model_module": "@jupyter-widgets/controls",
      "model_module_version": "1.5.0",
      "model_name": "ProgressStyleModel",
      "state": {
       "_model_module": "@jupyter-widgets/controls",
       "_model_module_version": "1.5.0",
       "_model_name": "ProgressStyleModel",
       "_view_count": null,
       "_view_module": "@jupyter-widgets/base",
       "_view_module_version": "1.2.0",
       "_view_name": "StyleView",
       "bar_color": null,
       "description_width": ""
      }
     },
     "21a7dcfa20f74e6e87258aabe5ae5a96": {
      "model_module": "@jupyter-widgets/controls",
      "model_module_version": "1.5.0",
      "model_name": "HBoxModel",
      "state": {
       "_dom_classes": [],
       "_model_module": "@jupyter-widgets/controls",
       "_model_module_version": "1.5.0",
       "_model_name": "HBoxModel",
       "_view_count": null,
       "_view_module": "@jupyter-widgets/controls",
       "_view_module_version": "1.5.0",
       "_view_name": "HBoxView",
       "box_style": "",
       "children": [
        "IPY_MODEL_0172603c1e4a40478b25f154f9eb94c7",
        "IPY_MODEL_0f7eb432cb7d46cfa8bd1fea2d1b2364",
        "IPY_MODEL_781ccadc29f04dc79754945641636f04"
       ],
       "layout": "IPY_MODEL_9280a95f8767458d94327819944038d3"
      }
     },
     "21dbd5c2b3be49e39c32e98da0571c88": {
      "model_module": "@jupyter-widgets/base",
      "model_module_version": "1.2.0",
      "model_name": "LayoutModel",
      "state": {
       "_model_module": "@jupyter-widgets/base",
       "_model_module_version": "1.2.0",
       "_model_name": "LayoutModel",
       "_view_count": null,
       "_view_module": "@jupyter-widgets/base",
       "_view_module_version": "1.2.0",
       "_view_name": "LayoutView",
       "align_content": null,
       "align_items": null,
       "align_self": null,
       "border": null,
       "bottom": null,
       "display": null,
       "flex": null,
       "flex_flow": null,
       "grid_area": null,
       "grid_auto_columns": null,
       "grid_auto_flow": null,
       "grid_auto_rows": null,
       "grid_column": null,
       "grid_gap": null,
       "grid_row": null,
       "grid_template_areas": null,
       "grid_template_columns": null,
       "grid_template_rows": null,
       "height": null,
       "justify_content": null,
       "justify_items": null,
       "left": null,
       "margin": null,
       "max_height": null,
       "max_width": null,
       "min_height": null,
       "min_width": null,
       "object_fit": null,
       "object_position": null,
       "order": null,
       "overflow": null,
       "overflow_x": null,
       "overflow_y": null,
       "padding": null,
       "right": null,
       "top": null,
       "visibility": null,
       "width": null
      }
     },
     "26b7b84edcb448d9945b92b3aed343ca": {
      "model_module": "@jupyter-widgets/controls",
      "model_module_version": "1.5.0",
      "model_name": "HBoxModel",
      "state": {
       "_dom_classes": [],
       "_model_module": "@jupyter-widgets/controls",
       "_model_module_version": "1.5.0",
       "_model_name": "HBoxModel",
       "_view_count": null,
       "_view_module": "@jupyter-widgets/controls",
       "_view_module_version": "1.5.0",
       "_view_name": "HBoxView",
       "box_style": "",
       "children": [
        "IPY_MODEL_e07efba8deb649019389544509c2bb05",
        "IPY_MODEL_a0c12aa1910448a49fe80ba275803ac6",
        "IPY_MODEL_5d0f664aae3b42bfb0ed10f1047bd170"
       ],
       "layout": "IPY_MODEL_a5ab30f4b2d8459b8de84203c48e3817"
      }
     },
     "2eddf2c1873a42c2af8a7933bd860268": {
      "model_module": "@jupyter-widgets/base",
      "model_module_version": "1.2.0",
      "model_name": "LayoutModel",
      "state": {
       "_model_module": "@jupyter-widgets/base",
       "_model_module_version": "1.2.0",
       "_model_name": "LayoutModel",
       "_view_count": null,
       "_view_module": "@jupyter-widgets/base",
       "_view_module_version": "1.2.0",
       "_view_name": "LayoutView",
       "align_content": null,
       "align_items": null,
       "align_self": null,
       "border": null,
       "bottom": null,
       "display": null,
       "flex": null,
       "flex_flow": null,
       "grid_area": null,
       "grid_auto_columns": null,
       "grid_auto_flow": null,
       "grid_auto_rows": null,
       "grid_column": null,
       "grid_gap": null,
       "grid_row": null,
       "grid_template_areas": null,
       "grid_template_columns": null,
       "grid_template_rows": null,
       "height": null,
       "justify_content": null,
       "justify_items": null,
       "left": null,
       "margin": null,
       "max_height": null,
       "max_width": null,
       "min_height": null,
       "min_width": null,
       "object_fit": null,
       "object_position": null,
       "order": null,
       "overflow": null,
       "overflow_x": null,
       "overflow_y": null,
       "padding": null,
       "right": null,
       "top": null,
       "visibility": null,
       "width": null
      }
     },
     "2ff56e6309ee403ba0fac641f9e000eb": {
      "model_module": "@jupyter-widgets/controls",
      "model_module_version": "1.5.0",
      "model_name": "DescriptionStyleModel",
      "state": {
       "_model_module": "@jupyter-widgets/controls",
       "_model_module_version": "1.5.0",
       "_model_name": "DescriptionStyleModel",
       "_view_count": null,
       "_view_module": "@jupyter-widgets/base",
       "_view_module_version": "1.2.0",
       "_view_name": "StyleView",
       "description_width": ""
      }
     },
     "324941d13a8e4e26a47534435da032b3": {
      "model_module": "@jupyter-widgets/base",
      "model_module_version": "1.2.0",
      "model_name": "LayoutModel",
      "state": {
       "_model_module": "@jupyter-widgets/base",
       "_model_module_version": "1.2.0",
       "_model_name": "LayoutModel",
       "_view_count": null,
       "_view_module": "@jupyter-widgets/base",
       "_view_module_version": "1.2.0",
       "_view_name": "LayoutView",
       "align_content": null,
       "align_items": null,
       "align_self": null,
       "border": null,
       "bottom": null,
       "display": null,
       "flex": null,
       "flex_flow": null,
       "grid_area": null,
       "grid_auto_columns": null,
       "grid_auto_flow": null,
       "grid_auto_rows": null,
       "grid_column": null,
       "grid_gap": null,
       "grid_row": null,
       "grid_template_areas": null,
       "grid_template_columns": null,
       "grid_template_rows": null,
       "height": null,
       "justify_content": null,
       "justify_items": null,
       "left": null,
       "margin": null,
       "max_height": null,
       "max_width": null,
       "min_height": null,
       "min_width": null,
       "object_fit": null,
       "object_position": null,
       "order": null,
       "overflow": null,
       "overflow_x": null,
       "overflow_y": null,
       "padding": null,
       "right": null,
       "top": null,
       "visibility": null,
       "width": null
      }
     },
     "35d1da33240e4f03a33413b7627fd86e": {
      "model_module": "@jupyter-widgets/controls",
      "model_module_version": "1.5.0",
      "model_name": "FloatProgressModel",
      "state": {
       "_dom_classes": [],
       "_model_module": "@jupyter-widgets/controls",
       "_model_module_version": "1.5.0",
       "_model_name": "FloatProgressModel",
       "_view_count": null,
       "_view_module": "@jupyter-widgets/controls",
       "_view_module_version": "1.5.0",
       "_view_name": "ProgressView",
       "bar_style": "success",
       "description": "",
       "description_tooltip": null,
       "layout": "IPY_MODEL_64035feb4a4b485b8c6f0e59e13d5404",
       "max": 6474.0,
       "min": 0.0,
       "orientation": "horizontal",
       "style": "IPY_MODEL_ea38e66fa15648d6b343d25470604a31",
       "value": 6474.0
      }
     },
     "3db93652165240aaae96d528c0f0aee4": {
      "model_module": "@jupyter-widgets/controls",
      "model_module_version": "1.5.0",
      "model_name": "DescriptionStyleModel",
      "state": {
       "_model_module": "@jupyter-widgets/controls",
       "_model_module_version": "1.5.0",
       "_model_name": "DescriptionStyleModel",
       "_view_count": null,
       "_view_module": "@jupyter-widgets/base",
       "_view_module_version": "1.2.0",
       "_view_name": "StyleView",
       "description_width": ""
      }
     },
     "4c80ead87c984d1b94326c91240877cb": {
      "model_module": "@jupyter-widgets/controls",
      "model_module_version": "1.5.0",
      "model_name": "HTMLModel",
      "state": {
       "_dom_classes": [],
       "_model_module": "@jupyter-widgets/controls",
       "_model_module_version": "1.5.0",
       "_model_name": "HTMLModel",
       "_view_count": null,
       "_view_module": "@jupyter-widgets/controls",
       "_view_module_version": "1.5.0",
       "_view_name": "HTMLView",
       "description": "",
       "description_tooltip": null,
       "layout": "IPY_MODEL_c5b2b9de34bf43048752ea494e7a6494",
       "placeholder": "​",
       "style": "IPY_MODEL_b4dd027927934bbba7f88fba042bf1ad",
       "value": "Downloading extra modules: 100%"
      }
     },
     "50ef8a2903e9410db581a0471dfd15bb": {
      "model_module": "@jupyter-widgets/controls",
      "model_module_version": "1.5.0",
      "model_name": "ProgressStyleModel",
      "state": {
       "_model_module": "@jupyter-widgets/controls",
       "_model_module_version": "1.5.0",
       "_model_name": "ProgressStyleModel",
       "_view_count": null,
       "_view_module": "@jupyter-widgets/base",
       "_view_module_version": "1.2.0",
       "_view_name": "StyleView",
       "bar_color": null,
       "description_width": ""
      }
     },
     "53cdbd05d81a47f58a11325d0f53493c": {
      "model_module": "@jupyter-widgets/base",
      "model_module_version": "1.2.0",
      "model_name": "LayoutModel",
      "state": {
       "_model_module": "@jupyter-widgets/base",
       "_model_module_version": "1.2.0",
       "_model_name": "LayoutModel",
       "_view_count": null,
       "_view_module": "@jupyter-widgets/base",
       "_view_module_version": "1.2.0",
       "_view_name": "LayoutView",
       "align_content": null,
       "align_items": null,
       "align_self": null,
       "border": null,
       "bottom": null,
       "display": null,
       "flex": null,
       "flex_flow": null,
       "grid_area": null,
       "grid_auto_columns": null,
       "grid_auto_flow": null,
       "grid_auto_rows": null,
       "grid_column": null,
       "grid_gap": null,
       "grid_row": null,
       "grid_template_areas": null,
       "grid_template_columns": null,
       "grid_template_rows": null,
       "height": null,
       "justify_content": null,
       "justify_items": null,
       "left": null,
       "margin": null,
       "max_height": null,
       "max_width": null,
       "min_height": null,
       "min_width": null,
       "object_fit": null,
       "object_position": null,
       "order": null,
       "overflow": null,
       "overflow_x": null,
       "overflow_y": null,
       "padding": null,
       "right": null,
       "top": null,
       "visibility": null,
       "width": null
      }
     },
     "55d373deb4da4c0cb2de7e69b0c2287a": {
      "model_module": "@jupyter-widgets/controls",
      "model_module_version": "1.5.0",
      "model_name": "FloatProgressModel",
      "state": {
       "_dom_classes": [],
       "_model_module": "@jupyter-widgets/controls",
       "_model_module_version": "1.5.0",
       "_model_name": "FloatProgressModel",
       "_view_count": null,
       "_view_module": "@jupyter-widgets/controls",
       "_view_module_version": "1.5.0",
       "_view_name": "ProgressView",
       "bar_style": "success",
       "description": "",
       "description_tooltip": null,
       "layout": "IPY_MODEL_324941d13a8e4e26a47534435da032b3",
       "max": 11263.0,
       "min": 0.0,
       "orientation": "horizontal",
       "style": "IPY_MODEL_1e706e9f7aa74dae82973ba21a34467e",
       "value": 11263.0
      }
     },
     "5d0f664aae3b42bfb0ed10f1047bd170": {
      "model_module": "@jupyter-widgets/controls",
      "model_module_version": "1.5.0",
      "model_name": "HTMLModel",
      "state": {
       "_dom_classes": [],
       "_model_module": "@jupyter-widgets/controls",
       "_model_module_version": "1.5.0",
       "_model_name": "HTMLModel",
       "_view_count": null,
       "_view_module": "@jupyter-widgets/controls",
       "_view_module_version": "1.5.0",
       "_view_name": "HTMLView",
       "description": "",
       "description_tooltip": null,
       "layout": "IPY_MODEL_2eddf2c1873a42c2af8a7933bd860268",
       "placeholder": "​",
       "style": "IPY_MODEL_d0e07d10edc74787b254c201085afa52",
       "value": " 3/3 [00:00&lt;00:00, 133.61 examples/s]"
      }
     },
     "64035feb4a4b485b8c6f0e59e13d5404": {
      "model_module": "@jupyter-widgets/base",
      "model_module_version": "1.2.0",
      "model_name": "LayoutModel",
      "state": {
       "_model_module": "@jupyter-widgets/base",
       "_model_module_version": "1.2.0",
       "_model_name": "LayoutModel",
       "_view_count": null,
       "_view_module": "@jupyter-widgets/base",
       "_view_module_version": "1.2.0",
       "_view_name": "LayoutView",
       "align_content": null,
       "align_items": null,
       "align_self": null,
       "border": null,
       "bottom": null,
       "display": null,
       "flex": null,
       "flex_flow": null,
       "grid_area": null,
       "grid_auto_columns": null,
       "grid_auto_flow": null,
       "grid_auto_rows": null,
       "grid_column": null,
       "grid_gap": null,
       "grid_row": null,
       "grid_template_areas": null,
       "grid_template_columns": null,
       "grid_template_rows": null,
       "height": null,
       "justify_content": null,
       "justify_items": null,
       "left": null,
       "margin": null,
       "max_height": null,
       "max_width": null,
       "min_height": null,
       "min_width": null,
       "object_fit": null,
       "object_position": null,
       "order": null,
       "overflow": null,
       "overflow_x": null,
       "overflow_y": null,
       "padding": null,
       "right": null,
       "top": null,
       "visibility": null,
       "width": null
      }
     },
     "667c86d9e4cc4d11a7bd8e8f305733ab": {
      "model_module": "@jupyter-widgets/base",
      "model_module_version": "1.2.0",
      "model_name": "LayoutModel",
      "state": {
       "_model_module": "@jupyter-widgets/base",
       "_model_module_version": "1.2.0",
       "_model_name": "LayoutModel",
       "_view_count": null,
       "_view_module": "@jupyter-widgets/base",
       "_view_module_version": "1.2.0",
       "_view_name": "LayoutView",
       "align_content": null,
       "align_items": null,
       "align_self": null,
       "border": null,
       "bottom": null,
       "display": null,
       "flex": null,
       "flex_flow": null,
       "grid_area": null,
       "grid_auto_columns": null,
       "grid_auto_flow": null,
       "grid_auto_rows": null,
       "grid_column": null,
       "grid_gap": null,
       "grid_row": null,
       "grid_template_areas": null,
       "grid_template_columns": null,
       "grid_template_rows": null,
       "height": null,
       "justify_content": null,
       "justify_items": null,
       "left": null,
       "margin": null,
       "max_height": null,
       "max_width": null,
       "min_height": null,
       "min_width": null,
       "object_fit": null,
       "object_position": null,
       "order": null,
       "overflow": null,
       "overflow_x": null,
       "overflow_y": null,
       "padding": null,
       "right": null,
       "top": null,
       "visibility": null,
       "width": null
      }
     },
     "6a7a7d8a7a614f12b63a2af61f77eb14": {
      "model_module": "@jupyter-widgets/controls",
      "model_module_version": "1.5.0",
      "model_name": "ProgressStyleModel",
      "state": {
       "_model_module": "@jupyter-widgets/controls",
       "_model_module_version": "1.5.0",
       "_model_name": "ProgressStyleModel",
       "_view_count": null,
       "_view_module": "@jupyter-widgets/base",
       "_view_module_version": "1.2.0",
       "_view_name": "StyleView",
       "bar_color": null,
       "description_width": ""
      }
     },
     "781ccadc29f04dc79754945641636f04": {
      "model_module": "@jupyter-widgets/controls",
      "model_module_version": "1.5.0",
      "model_name": "HTMLModel",
      "state": {
       "_dom_classes": [],
       "_model_module": "@jupyter-widgets/controls",
       "_model_module_version": "1.5.0",
       "_model_name": "HTMLModel",
       "_view_count": null,
       "_view_module": "@jupyter-widgets/controls",
       "_view_module_version": "1.5.0",
       "_view_name": "HTMLView",
       "description": "",
       "description_tooltip": null,
       "layout": "IPY_MODEL_c8ec8c66a78944558950405f44bc9f69",
       "placeholder": "​",
       "style": "IPY_MODEL_c8d6c8e91c6c4c51ac1d08a9b10add59",
       "value": " 2985/2985 [00:00&lt;00:00, 3445.21 examples/s]"
      }
     },
     "7d4746e83d984dfea782ab0bc3ffb783": {
      "model_module": "@jupyter-widgets/controls",
      "model_module_version": "1.5.0",
      "model_name": "HTMLModel",
      "state": {
       "_dom_classes": [],
       "_model_module": "@jupyter-widgets/controls",
       "_model_module_version": "1.5.0",
       "_model_name": "HTMLModel",
       "_view_count": null,
       "_view_module": "@jupyter-widgets/controls",
       "_view_module_version": "1.5.0",
       "_view_name": "HTMLView",
       "description": "",
       "description_tooltip": null,
       "layout": "IPY_MODEL_667c86d9e4cc4d11a7bd8e8f305733ab",
       "placeholder": "​",
       "style": "IPY_MODEL_bd5202f067614b5c97c2adbe0fb1db79",
       "value": " 11.3k/11.3k [00:00&lt;00:00, 924kB/s]"
      }
     },
     "8092c64acf904b968833cf0b508aaa0d": {
      "model_module": "@jupyter-widgets/base",
      "model_module_version": "1.2.0",
      "model_name": "LayoutModel",
      "state": {
       "_model_module": "@jupyter-widgets/base",
       "_model_module_version": "1.2.0",
       "_model_name": "LayoutModel",
       "_view_count": null,
       "_view_module": "@jupyter-widgets/base",
       "_view_module_version": "1.2.0",
       "_view_name": "LayoutView",
       "align_content": null,
       "align_items": null,
       "align_self": null,
       "border": null,
       "bottom": null,
       "display": null,
       "flex": null,
       "flex_flow": null,
       "grid_area": null,
       "grid_auto_columns": null,
       "grid_auto_flow": null,
       "grid_auto_rows": null,
       "grid_column": null,
       "grid_gap": null,
       "grid_row": null,
       "grid_template_areas": null,
       "grid_template_columns": null,
       "grid_template_rows": null,
       "height": null,
       "justify_content": null,
       "justify_items": null,
       "left": null,
       "margin": null,
       "max_height": null,
       "max_width": null,
       "min_height": null,
       "min_width": null,
       "object_fit": null,
       "object_position": null,
       "order": null,
       "overflow": null,
       "overflow_x": null,
       "overflow_y": null,
       "padding": null,
       "right": null,
       "top": null,
       "visibility": null,
       "width": null
      }
     },
     "80a7f03c3c714ae2bcab88d6c5d8817f": {
      "model_module": "@jupyter-widgets/base",
      "model_module_version": "1.2.0",
      "model_name": "LayoutModel",
      "state": {
       "_model_module": "@jupyter-widgets/base",
       "_model_module_version": "1.2.0",
       "_model_name": "LayoutModel",
       "_view_count": null,
       "_view_module": "@jupyter-widgets/base",
       "_view_module_version": "1.2.0",
       "_view_name": "LayoutView",
       "align_content": null,
       "align_items": null,
       "align_self": null,
       "border": null,
       "bottom": null,
       "display": null,
       "flex": null,
       "flex_flow": null,
       "grid_area": null,
       "grid_auto_columns": null,
       "grid_auto_flow": null,
       "grid_auto_rows": null,
       "grid_column": null,
       "grid_gap": null,
       "grid_row": null,
       "grid_template_areas": null,
       "grid_template_columns": null,
       "grid_template_rows": null,
       "height": null,
       "justify_content": null,
       "justify_items": null,
       "left": null,
       "margin": null,
       "max_height": null,
       "max_width": null,
       "min_height": null,
       "min_width": null,
       "object_fit": null,
       "object_position": null,
       "order": null,
       "overflow": null,
       "overflow_x": null,
       "overflow_y": null,
       "padding": null,
       "right": null,
       "top": null,
       "visibility": null,
       "width": null
      }
     },
     "8619418a66734b859beff75542447c08": {
      "model_module": "@jupyter-widgets/controls",
      "model_module_version": "1.5.0",
      "model_name": "DescriptionStyleModel",
      "state": {
       "_model_module": "@jupyter-widgets/controls",
       "_model_module_version": "1.5.0",
       "_model_name": "DescriptionStyleModel",
       "_view_count": null,
       "_view_module": "@jupyter-widgets/base",
       "_view_module_version": "1.2.0",
       "_view_name": "StyleView",
       "description_width": ""
      }
     },
     "883b898d6325491991cbd1765b36f0c7": {
      "model_module": "@jupyter-widgets/base",
      "model_module_version": "1.2.0",
      "model_name": "LayoutModel",
      "state": {
       "_model_module": "@jupyter-widgets/base",
       "_model_module_version": "1.2.0",
       "_model_name": "LayoutModel",
       "_view_count": null,
       "_view_module": "@jupyter-widgets/base",
       "_view_module_version": "1.2.0",
       "_view_name": "LayoutView",
       "align_content": null,
       "align_items": null,
       "align_self": null,
       "border": null,
       "bottom": null,
       "display": null,
       "flex": null,
       "flex_flow": null,
       "grid_area": null,
       "grid_auto_columns": null,
       "grid_auto_flow": null,
       "grid_auto_rows": null,
       "grid_column": null,
       "grid_gap": null,
       "grid_row": null,
       "grid_template_areas": null,
       "grid_template_columns": null,
       "grid_template_rows": null,
       "height": null,
       "justify_content": null,
       "justify_items": null,
       "left": null,
       "margin": null,
       "max_height": null,
       "max_width": null,
       "min_height": null,
       "min_width": null,
       "object_fit": null,
       "object_position": null,
       "order": null,
       "overflow": null,
       "overflow_x": null,
       "overflow_y": null,
       "padding": null,
       "right": null,
       "top": null,
       "visibility": null,
       "width": null
      }
     },
     "885e94bb68074b418c1aad96f91de40e": {
      "model_module": "@jupyter-widgets/base",
      "model_module_version": "1.2.0",
      "model_name": "LayoutModel",
      "state": {
       "_model_module": "@jupyter-widgets/base",
       "_model_module_version": "1.2.0",
       "_model_name": "LayoutModel",
       "_view_count": null,
       "_view_module": "@jupyter-widgets/base",
       "_view_module_version": "1.2.0",
       "_view_name": "LayoutView",
       "align_content": null,
       "align_items": null,
       "align_self": null,
       "border": null,
       "bottom": null,
       "display": null,
       "flex": null,
       "flex_flow": null,
       "grid_area": null,
       "grid_auto_columns": null,
       "grid_auto_flow": null,
       "grid_auto_rows": null,
       "grid_column": null,
       "grid_gap": null,
       "grid_row": null,
       "grid_template_areas": null,
       "grid_template_columns": null,
       "grid_template_rows": null,
       "height": null,
       "justify_content": null,
       "justify_items": null,
       "left": null,
       "margin": null,
       "max_height": null,
       "max_width": null,
       "min_height": null,
       "min_width": null,
       "object_fit": null,
       "object_position": null,
       "order": null,
       "overflow": null,
       "overflow_x": null,
       "overflow_y": null,
       "padding": null,
       "right": null,
       "top": null,
       "visibility": null,
       "width": null
      }
     },
     "8cd847bd046844c1a134c9a5103af9d0": {
      "model_module": "@jupyter-widgets/controls",
      "model_module_version": "1.5.0",
      "model_name": "HBoxModel",
      "state": {
       "_dom_classes": [],
       "_model_module": "@jupyter-widgets/controls",
       "_model_module_version": "1.5.0",
       "_model_name": "HBoxModel",
       "_view_count": null,
       "_view_module": "@jupyter-widgets/controls",
       "_view_module_version": "1.5.0",
       "_view_name": "HBoxView",
       "box_style": "",
       "children": [
        "IPY_MODEL_0bef1afc97c74e619e7cbbb0f3c9af92",
        "IPY_MODEL_35d1da33240e4f03a33413b7627fd86e",
        "IPY_MODEL_f3c75ead5bbc478d95cc5652e6637f09"
       ],
       "layout": "IPY_MODEL_53cdbd05d81a47f58a11325d0f53493c"
      }
     },
     "9280a95f8767458d94327819944038d3": {
      "model_module": "@jupyter-widgets/base",
      "model_module_version": "1.2.0",
      "model_name": "LayoutModel",
      "state": {
       "_model_module": "@jupyter-widgets/base",
       "_model_module_version": "1.2.0",
       "_model_name": "LayoutModel",
       "_view_count": null,
       "_view_module": "@jupyter-widgets/base",
       "_view_module_version": "1.2.0",
       "_view_name": "LayoutView",
       "align_content": null,
       "align_items": null,
       "align_self": null,
       "border": null,
       "bottom": null,
       "display": null,
       "flex": null,
       "flex_flow": null,
       "grid_area": null,
       "grid_auto_columns": null,
       "grid_auto_flow": null,
       "grid_auto_rows": null,
       "grid_column": null,
       "grid_gap": null,
       "grid_row": null,
       "grid_template_areas": null,
       "grid_template_columns": null,
       "grid_template_rows": null,
       "height": null,
       "justify_content": null,
       "justify_items": null,
       "left": null,
       "margin": null,
       "max_height": null,
       "max_width": null,
       "min_height": null,
       "min_width": null,
       "object_fit": null,
       "object_position": null,
       "order": null,
       "overflow": null,
       "overflow_x": null,
       "overflow_y": null,
       "padding": null,
       "right": null,
       "top": null,
       "visibility": null,
       "width": null
      }
     },
     "96745eb92cda4492840f83aef99aafed": {
      "model_module": "@jupyter-widgets/controls",
      "model_module_version": "1.5.0",
      "model_name": "DescriptionStyleModel",
      "state": {
       "_model_module": "@jupyter-widgets/controls",
       "_model_module_version": "1.5.0",
       "_model_name": "DescriptionStyleModel",
       "_view_count": null,
       "_view_module": "@jupyter-widgets/base",
       "_view_module_version": "1.2.0",
       "_view_name": "StyleView",
       "description_width": ""
      }
     },
     "97ac24880c994bb4b3f6fc3e7c60765e": {
      "model_module": "@jupyter-widgets/base",
      "model_module_version": "1.2.0",
      "model_name": "LayoutModel",
      "state": {
       "_model_module": "@jupyter-widgets/base",
       "_model_module_version": "1.2.0",
       "_model_name": "LayoutModel",
       "_view_count": null,
       "_view_module": "@jupyter-widgets/base",
       "_view_module_version": "1.2.0",
       "_view_name": "LayoutView",
       "align_content": null,
       "align_items": null,
       "align_self": null,
       "border": null,
       "bottom": null,
       "display": null,
       "flex": null,
       "flex_flow": null,
       "grid_area": null,
       "grid_auto_columns": null,
       "grid_auto_flow": null,
       "grid_auto_rows": null,
       "grid_column": null,
       "grid_gap": null,
       "grid_row": null,
       "grid_template_areas": null,
       "grid_template_columns": null,
       "grid_template_rows": null,
       "height": null,
       "justify_content": null,
       "justify_items": null,
       "left": null,
       "margin": null,
       "max_height": null,
       "max_width": null,
       "min_height": null,
       "min_width": null,
       "object_fit": null,
       "object_position": null,
       "order": null,
       "overflow": null,
       "overflow_x": null,
       "overflow_y": null,
       "padding": null,
       "right": null,
       "top": null,
       "visibility": null,
       "width": null
      }
     },
     "9a2ad00a1b7544fa8052d235b4317b8b": {
      "model_module": "@jupyter-widgets/base",
      "model_module_version": "1.2.0",
      "model_name": "LayoutModel",
      "state": {
       "_model_module": "@jupyter-widgets/base",
       "_model_module_version": "1.2.0",
       "_model_name": "LayoutModel",
       "_view_count": null,
       "_view_module": "@jupyter-widgets/base",
       "_view_module_version": "1.2.0",
       "_view_name": "LayoutView",
       "align_content": null,
       "align_items": null,
       "align_self": null,
       "border": null,
       "bottom": null,
       "display": null,
       "flex": null,
       "flex_flow": null,
       "grid_area": null,
       "grid_auto_columns": null,
       "grid_auto_flow": null,
       "grid_auto_rows": null,
       "grid_column": null,
       "grid_gap": null,
       "grid_row": null,
       "grid_template_areas": null,
       "grid_template_columns": null,
       "grid_template_rows": null,
       "height": null,
       "justify_content": null,
       "justify_items": null,
       "left": null,
       "margin": null,
       "max_height": null,
       "max_width": null,
       "min_height": null,
       "min_width": null,
       "object_fit": null,
       "object_position": null,
       "order": null,
       "overflow": null,
       "overflow_x": null,
       "overflow_y": null,
       "padding": null,
       "right": null,
       "top": null,
       "visibility": null,
       "width": null
      }
     },
     "a0c12aa1910448a49fe80ba275803ac6": {
      "model_module": "@jupyter-widgets/controls",
      "model_module_version": "1.5.0",
      "model_name": "FloatProgressModel",
      "state": {
       "_dom_classes": [],
       "_model_module": "@jupyter-widgets/controls",
       "_model_module_version": "1.5.0",
       "_model_name": "FloatProgressModel",
       "_view_count": null,
       "_view_module": "@jupyter-widgets/controls",
       "_view_module_version": "1.5.0",
       "_view_name": "ProgressView",
       "bar_style": "success",
       "description": "",
       "description_tooltip": null,
       "layout": "IPY_MODEL_9a2ad00a1b7544fa8052d235b4317b8b",
       "max": 3.0,
       "min": 0.0,
       "orientation": "horizontal",
       "style": "IPY_MODEL_50ef8a2903e9410db581a0471dfd15bb",
       "value": 3.0
      }
     },
     "a3c05dc27d6c4bc3ae2200b7aff42f66": {
      "model_module": "@jupyter-widgets/base",
      "model_module_version": "1.2.0",
      "model_name": "LayoutModel",
      "state": {
       "_model_module": "@jupyter-widgets/base",
       "_model_module_version": "1.2.0",
       "_model_name": "LayoutModel",
       "_view_count": null,
       "_view_module": "@jupyter-widgets/base",
       "_view_module_version": "1.2.0",
       "_view_name": "LayoutView",
       "align_content": null,
       "align_items": null,
       "align_self": null,
       "border": null,
       "bottom": null,
       "display": null,
       "flex": null,
       "flex_flow": null,
       "grid_area": null,
       "grid_auto_columns": null,
       "grid_auto_flow": null,
       "grid_auto_rows": null,
       "grid_column": null,
       "grid_gap": null,
       "grid_row": null,
       "grid_template_areas": null,
       "grid_template_columns": null,
       "grid_template_rows": null,
       "height": null,
       "justify_content": null,
       "justify_items": null,
       "left": null,
       "margin": null,
       "max_height": null,
       "max_width": null,
       "min_height": null,
       "min_width": null,
       "object_fit": null,
       "object_position": null,
       "order": null,
       "overflow": null,
       "overflow_x": null,
       "overflow_y": null,
       "padding": null,
       "right": null,
       "top": null,
       "visibility": null,
       "width": null
      }
     },
     "a5ab30f4b2d8459b8de84203c48e3817": {
      "model_module": "@jupyter-widgets/base",
      "model_module_version": "1.2.0",
      "model_name": "LayoutModel",
      "state": {
       "_model_module": "@jupyter-widgets/base",
       "_model_module_version": "1.2.0",
       "_model_name": "LayoutModel",
       "_view_count": null,
       "_view_module": "@jupyter-widgets/base",
       "_view_module_version": "1.2.0",
       "_view_name": "LayoutView",
       "align_content": null,
       "align_items": null,
       "align_self": null,
       "border": null,
       "bottom": null,
       "display": null,
       "flex": null,
       "flex_flow": null,
       "grid_area": null,
       "grid_auto_columns": null,
       "grid_auto_flow": null,
       "grid_auto_rows": null,
       "grid_column": null,
       "grid_gap": null,
       "grid_row": null,
       "grid_template_areas": null,
       "grid_template_columns": null,
       "grid_template_rows": null,
       "height": null,
       "justify_content": null,
       "justify_items": null,
       "left": null,
       "margin": null,
       "max_height": null,
       "max_width": null,
       "min_height": null,
       "min_width": null,
       "object_fit": null,
       "object_position": null,
       "order": null,
       "overflow": null,
       "overflow_x": null,
       "overflow_y": null,
       "padding": null,
       "right": null,
       "top": null,
       "visibility": null,
       "width": null
      }
     },
     "b4dd027927934bbba7f88fba042bf1ad": {
      "model_module": "@jupyter-widgets/controls",
      "model_module_version": "1.5.0",
      "model_name": "DescriptionStyleModel",
      "state": {
       "_model_module": "@jupyter-widgets/controls",
       "_model_module_version": "1.5.0",
       "_model_name": "DescriptionStyleModel",
       "_view_count": null,
       "_view_module": "@jupyter-widgets/base",
       "_view_module_version": "1.2.0",
       "_view_name": "StyleView",
       "description_width": ""
      }
     },
     "bd5202f067614b5c97c2adbe0fb1db79": {
      "model_module": "@jupyter-widgets/controls",
      "model_module_version": "1.5.0",
      "model_name": "DescriptionStyleModel",
      "state": {
       "_model_module": "@jupyter-widgets/controls",
       "_model_module_version": "1.5.0",
       "_model_name": "DescriptionStyleModel",
       "_view_count": null,
       "_view_module": "@jupyter-widgets/base",
       "_view_module_version": "1.2.0",
       "_view_name": "StyleView",
       "description_width": ""
      }
     },
     "c5b2b9de34bf43048752ea494e7a6494": {
      "model_module": "@jupyter-widgets/base",
      "model_module_version": "1.2.0",
      "model_name": "LayoutModel",
      "state": {
       "_model_module": "@jupyter-widgets/base",
       "_model_module_version": "1.2.0",
       "_model_name": "LayoutModel",
       "_view_count": null,
       "_view_module": "@jupyter-widgets/base",
       "_view_module_version": "1.2.0",
       "_view_name": "LayoutView",
       "align_content": null,
       "align_items": null,
       "align_self": null,
       "border": null,
       "bottom": null,
       "display": null,
       "flex": null,
       "flex_flow": null,
       "grid_area": null,
       "grid_auto_columns": null,
       "grid_auto_flow": null,
       "grid_auto_rows": null,
       "grid_column": null,
       "grid_gap": null,
       "grid_row": null,
       "grid_template_areas": null,
       "grid_template_columns": null,
       "grid_template_rows": null,
       "height": null,
       "justify_content": null,
       "justify_items": null,
       "left": null,
       "margin": null,
       "max_height": null,
       "max_width": null,
       "min_height": null,
       "min_width": null,
       "object_fit": null,
       "object_position": null,
       "order": null,
       "overflow": null,
       "overflow_x": null,
       "overflow_y": null,
       "padding": null,
       "right": null,
       "top": null,
       "visibility": null,
       "width": null
      }
     },
     "c89a8702a16f417587a6393795eebb5e": {
      "model_module": "@jupyter-widgets/controls",
      "model_module_version": "1.5.0",
      "model_name": "HBoxModel",
      "state": {
       "_dom_classes": [],
       "_model_module": "@jupyter-widgets/controls",
       "_model_module_version": "1.5.0",
       "_model_name": "HBoxModel",
       "_view_count": null,
       "_view_module": "@jupyter-widgets/controls",
       "_view_module_version": "1.5.0",
       "_view_name": "HBoxView",
       "box_style": "",
       "children": [
        "IPY_MODEL_f0b9c50c26214cc889ae3f2d245da63f",
        "IPY_MODEL_eeaaff5bdb6a47a69f91f59613ecf90b",
        "IPY_MODEL_1cd9387413454df2acc8e92bc294429d"
       ],
       "layout": "IPY_MODEL_885e94bb68074b418c1aad96f91de40e"
      }
     },
     "c8d6c8e91c6c4c51ac1d08a9b10add59": {
      "model_module": "@jupyter-widgets/controls",
      "model_module_version": "1.5.0",
      "model_name": "DescriptionStyleModel",
      "state": {
       "_model_module": "@jupyter-widgets/controls",
       "_model_module_version": "1.5.0",
       "_model_name": "DescriptionStyleModel",
       "_view_count": null,
       "_view_module": "@jupyter-widgets/base",
       "_view_module_version": "1.2.0",
       "_view_name": "StyleView",
       "description_width": ""
      }
     },
     "c8ec8c66a78944558950405f44bc9f69": {
      "model_module": "@jupyter-widgets/base",
      "model_module_version": "1.2.0",
      "model_name": "LayoutModel",
      "state": {
       "_model_module": "@jupyter-widgets/base",
       "_model_module_version": "1.2.0",
       "_model_name": "LayoutModel",
       "_view_count": null,
       "_view_module": "@jupyter-widgets/base",
       "_view_module_version": "1.2.0",
       "_view_name": "LayoutView",
       "align_content": null,
       "align_items": null,
       "align_self": null,
       "border": null,
       "bottom": null,
       "display": null,
       "flex": null,
       "flex_flow": null,
       "grid_area": null,
       "grid_auto_columns": null,
       "grid_auto_flow": null,
       "grid_auto_rows": null,
       "grid_column": null,
       "grid_gap": null,
       "grid_row": null,
       "grid_template_areas": null,
       "grid_template_columns": null,
       "grid_template_rows": null,
       "height": null,
       "justify_content": null,
       "justify_items": null,
       "left": null,
       "margin": null,
       "max_height": null,
       "max_width": null,
       "min_height": null,
       "min_width": null,
       "object_fit": null,
       "object_position": null,
       "order": null,
       "overflow": null,
       "overflow_x": null,
       "overflow_y": null,
       "padding": null,
       "right": null,
       "top": null,
       "visibility": null,
       "width": null
      }
     },
     "d0e07d10edc74787b254c201085afa52": {
      "model_module": "@jupyter-widgets/controls",
      "model_module_version": "1.5.0",
      "model_name": "DescriptionStyleModel",
      "state": {
       "_model_module": "@jupyter-widgets/controls",
       "_model_module_version": "1.5.0",
       "_model_name": "DescriptionStyleModel",
       "_view_count": null,
       "_view_module": "@jupyter-widgets/base",
       "_view_module_version": "1.2.0",
       "_view_name": "StyleView",
       "description_width": ""
      }
     },
     "e07efba8deb649019389544509c2bb05": {
      "model_module": "@jupyter-widgets/controls",
      "model_module_version": "1.5.0",
      "model_name": "HTMLModel",
      "state": {
       "_dom_classes": [],
       "_model_module": "@jupyter-widgets/controls",
       "_model_module_version": "1.5.0",
       "_model_name": "HTMLModel",
       "_view_count": null,
       "_view_module": "@jupyter-widgets/controls",
       "_view_module_version": "1.5.0",
       "_view_name": "HTMLView",
       "description": "",
       "description_tooltip": null,
       "layout": "IPY_MODEL_ed62b830aec449509eeac5014ea82226",
       "placeholder": "​",
       "style": "IPY_MODEL_1bf94a524e4844019010fa60db898288",
       "value": "Map: 100%"
      }
     },
     "e97b9503f643480ea36e27a0ac7487e8": {
      "model_module": "@jupyter-widgets/controls",
      "model_module_version": "1.5.0",
      "model_name": "ProgressStyleModel",
      "state": {
       "_model_module": "@jupyter-widgets/controls",
       "_model_module_version": "1.5.0",
       "_model_name": "ProgressStyleModel",
       "_view_count": null,
       "_view_module": "@jupyter-widgets/base",
       "_view_module_version": "1.2.0",
       "_view_name": "StyleView",
       "bar_color": null,
       "description_width": ""
      }
     },
     "ea38e66fa15648d6b343d25470604a31": {
      "model_module": "@jupyter-widgets/controls",
      "model_module_version": "1.5.0",
      "model_name": "ProgressStyleModel",
      "state": {
       "_model_module": "@jupyter-widgets/controls",
       "_model_module_version": "1.5.0",
       "_model_name": "ProgressStyleModel",
       "_view_count": null,
       "_view_module": "@jupyter-widgets/base",
       "_view_module_version": "1.2.0",
       "_view_name": "StyleView",
       "bar_color": null,
       "description_width": ""
      }
     },
     "ed62b830aec449509eeac5014ea82226": {
      "model_module": "@jupyter-widgets/base",
      "model_module_version": "1.2.0",
      "model_name": "LayoutModel",
      "state": {
       "_model_module": "@jupyter-widgets/base",
       "_model_module_version": "1.2.0",
       "_model_name": "LayoutModel",
       "_view_count": null,
       "_view_module": "@jupyter-widgets/base",
       "_view_module_version": "1.2.0",
       "_view_name": "LayoutView",
       "align_content": null,
       "align_items": null,
       "align_self": null,
       "border": null,
       "bottom": null,
       "display": null,
       "flex": null,
       "flex_flow": null,
       "grid_area": null,
       "grid_auto_columns": null,
       "grid_auto_flow": null,
       "grid_auto_rows": null,
       "grid_column": null,
       "grid_gap": null,
       "grid_row": null,
       "grid_template_areas": null,
       "grid_template_columns": null,
       "grid_template_rows": null,
       "height": null,
       "justify_content": null,
       "justify_items": null,
       "left": null,
       "margin": null,
       "max_height": null,
       "max_width": null,
       "min_height": null,
       "min_width": null,
       "object_fit": null,
       "object_position": null,
       "order": null,
       "overflow": null,
       "overflow_x": null,
       "overflow_y": null,
       "padding": null,
       "right": null,
       "top": null,
       "visibility": null,
       "width": null
      }
     },
     "eeaaff5bdb6a47a69f91f59613ecf90b": {
      "model_module": "@jupyter-widgets/controls",
      "model_module_version": "1.5.0",
      "model_name": "FloatProgressModel",
      "state": {
       "_dom_classes": [],
       "_model_module": "@jupyter-widgets/controls",
       "_model_module_version": "1.5.0",
       "_model_name": "FloatProgressModel",
       "_view_count": null,
       "_view_module": "@jupyter-widgets/controls",
       "_view_module_version": "1.5.0",
       "_view_name": "ProgressView",
       "bar_style": "success",
       "description": "",
       "description_tooltip": null,
       "layout": "IPY_MODEL_21dbd5c2b3be49e39c32e98da0571c88",
       "max": 29837.0,
       "min": 0.0,
       "orientation": "horizontal",
       "style": "IPY_MODEL_e97b9503f643480ea36e27a0ac7487e8",
       "value": 29837.0
      }
     },
     "ef62ca4086dc4b64ab7871e0d0b120bf": {
      "model_module": "@jupyter-widgets/controls",
      "model_module_version": "1.5.0",
      "model_name": "DescriptionStyleModel",
      "state": {
       "_model_module": "@jupyter-widgets/controls",
       "_model_module_version": "1.5.0",
       "_model_name": "DescriptionStyleModel",
       "_view_count": null,
       "_view_module": "@jupyter-widgets/base",
       "_view_module_version": "1.2.0",
       "_view_name": "StyleView",
       "description_width": ""
      }
     },
     "f0b9c50c26214cc889ae3f2d245da63f": {
      "model_module": "@jupyter-widgets/controls",
      "model_module_version": "1.5.0",
      "model_name": "HTMLModel",
      "state": {
       "_dom_classes": [],
       "_model_module": "@jupyter-widgets/controls",
       "_model_module_version": "1.5.0",
       "_model_name": "HTMLModel",
       "_view_count": null,
       "_view_module": "@jupyter-widgets/controls",
       "_view_module_version": "1.5.0",
       "_view_name": "HTMLView",
       "description": "",
       "description_tooltip": null,
       "layout": "IPY_MODEL_97ac24880c994bb4b3f6fc3e7c60765e",
       "placeholder": "​",
       "style": "IPY_MODEL_ef62ca4086dc4b64ab7871e0d0b120bf",
       "value": "Map: 100%"
      }
     },
     "f3c75ead5bbc478d95cc5652e6637f09": {
      "model_module": "@jupyter-widgets/controls",
      "model_module_version": "1.5.0",
      "model_name": "HTMLModel",
      "state": {
       "_dom_classes": [],
       "_model_module": "@jupyter-widgets/controls",
       "_model_module_version": "1.5.0",
       "_model_name": "HTMLModel",
       "_view_count": null,
       "_view_module": "@jupyter-widgets/controls",
       "_view_module_version": "1.5.0",
       "_view_name": "HTMLView",
       "description": "",
       "description_tooltip": null,
       "layout": "IPY_MODEL_f58016917e62488aa328fa67e9a73ff5",
       "placeholder": "​",
       "style": "IPY_MODEL_8619418a66734b859beff75542447c08",
       "value": " 6.47k/6.47k [00:00&lt;00:00, 573kB/s]"
      }
     },
     "f58016917e62488aa328fa67e9a73ff5": {
      "model_module": "@jupyter-widgets/base",
      "model_module_version": "1.2.0",
      "model_name": "LayoutModel",
      "state": {
       "_model_module": "@jupyter-widgets/base",
       "_model_module_version": "1.2.0",
       "_model_name": "LayoutModel",
       "_view_count": null,
       "_view_module": "@jupyter-widgets/base",
       "_view_module_version": "1.2.0",
       "_view_name": "LayoutView",
       "align_content": null,
       "align_items": null,
       "align_self": null,
       "border": null,
       "bottom": null,
       "display": null,
       "flex": null,
       "flex_flow": null,
       "grid_area": null,
       "grid_auto_columns": null,
       "grid_auto_flow": null,
       "grid_auto_rows": null,
       "grid_column": null,
       "grid_gap": null,
       "grid_row": null,
       "grid_template_areas": null,
       "grid_template_columns": null,
       "grid_template_rows": null,
       "height": null,
       "justify_content": null,
       "justify_items": null,
       "left": null,
       "margin": null,
       "max_height": null,
       "max_width": null,
       "min_height": null,
       "min_width": null,
       "object_fit": null,
       "object_position": null,
       "order": null,
       "overflow": null,
       "overflow_x": null,
       "overflow_y": null,
       "padding": null,
       "right": null,
       "top": null,
       "visibility": null,
       "width": null
      }
     },
     "f93c94dc2a9b41e8aaa7b33017fd92d2": {
      "model_module": "@jupyter-widgets/base",
      "model_module_version": "1.2.0",
      "model_name": "LayoutModel",
      "state": {
       "_model_module": "@jupyter-widgets/base",
       "_model_module_version": "1.2.0",
       "_model_name": "LayoutModel",
       "_view_count": null,
       "_view_module": "@jupyter-widgets/base",
       "_view_module_version": "1.2.0",
       "_view_name": "LayoutView",
       "align_content": null,
       "align_items": null,
       "align_self": null,
       "border": null,
       "bottom": null,
       "display": null,
       "flex": null,
       "flex_flow": null,
       "grid_area": null,
       "grid_auto_columns": null,
       "grid_auto_flow": null,
       "grid_auto_rows": null,
       "grid_column": null,
       "grid_gap": null,
       "grid_row": null,
       "grid_template_areas": null,
       "grid_template_columns": null,
       "grid_template_rows": null,
       "height": null,
       "justify_content": null,
       "justify_items": null,
       "left": null,
       "margin": null,
       "max_height": null,
       "max_width": null,
       "min_height": null,
       "min_width": null,
       "object_fit": null,
       "object_position": null,
       "order": null,
       "overflow": null,
       "overflow_x": null,
       "overflow_y": null,
       "padding": null,
       "right": null,
       "top": null,
       "visibility": null,
       "width": null
      }
     }
    },
    "version_major": 2,
    "version_minor": 0
   }
  }
 },
 "nbformat": 4,
 "nbformat_minor": 5
}
