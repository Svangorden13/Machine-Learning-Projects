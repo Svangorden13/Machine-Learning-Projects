{
 "cells": [
  {
   "cell_type": "code",
   "execution_count": 1,
   "id": "d48c5bac",
   "metadata": {
    "_cell_guid": "b1076dfc-b9ad-4769-8c92-a6c4dae69d19",
    "_uuid": "8f2839f25d086af736a60e9eeb907d3b93b6e0e5",
    "execution": {
     "iopub.execute_input": "2023-08-25T17:54:37.563844Z",
     "iopub.status.busy": "2023-08-25T17:54:37.563292Z",
     "iopub.status.idle": "2023-08-25T17:54:48.751214Z",
     "shell.execute_reply": "2023-08-25T17:54:48.749563Z"
    },
    "papermill": {
     "duration": 11.197395,
     "end_time": "2023-08-25T17:54:48.754307",
     "exception": false,
     "start_time": "2023-08-25T17:54:37.556912",
     "status": "completed"
    },
    "tags": []
   },
   "outputs": [
    {
     "name": "stderr",
     "output_type": "stream",
     "text": [
      "/opt/conda/lib/python3.10/site-packages/scipy/__init__.py:146: UserWarning: A NumPy version >=1.16.5 and <1.23.0 is required for this version of SciPy (detected version 1.23.5\n",
      "  warnings.warn(f\"A NumPy version >={np_minversion} and <{np_maxversion}\"\n",
      "/opt/conda/lib/python3.10/site-packages/tensorflow_io/python/ops/__init__.py:98: UserWarning: unable to load libtensorflow_io_plugins.so: unable to open file: libtensorflow_io_plugins.so, from paths: ['/opt/conda/lib/python3.10/site-packages/tensorflow_io/python/ops/libtensorflow_io_plugins.so']\n",
      "caused by: ['/opt/conda/lib/python3.10/site-packages/tensorflow_io/python/ops/libtensorflow_io_plugins.so: undefined symbol: _ZN3tsl6StatusC1EN10tensorflow5error4CodeESt17basic_string_viewIcSt11char_traitsIcEENS_14SourceLocationE']\n",
      "  warnings.warn(f\"unable to load libtensorflow_io_plugins.so: {e}\")\n",
      "/opt/conda/lib/python3.10/site-packages/tensorflow_io/python/ops/__init__.py:104: UserWarning: file system plugins are not loaded: unable to open file: libtensorflow_io.so, from paths: ['/opt/conda/lib/python3.10/site-packages/tensorflow_io/python/ops/libtensorflow_io.so']\n",
      "caused by: ['/opt/conda/lib/python3.10/site-packages/tensorflow_io/python/ops/libtensorflow_io.so: undefined symbol: _ZTVN10tensorflow13GcsFileSystemE']\n",
      "  warnings.warn(f\"file system plugins are not loaded: {e}\")\n"
     ]
    }
   ],
   "source": [
    "import numpy as np\n",
    "import pandas as pd\n",
    "import tensorflow as tf"
   ]
  },
  {
   "cell_type": "markdown",
   "id": "617b515f",
   "metadata": {},
   "source": [
    "## Organize Data"
   ]
  },
  {
   "cell_type": "code",
   "execution_count": 2,
   "id": "65ac2832",
   "metadata": {
    "execution": {
     "iopub.execute_input": "2023-08-25T17:54:48.766997Z",
     "iopub.status.busy": "2023-08-25T17:54:48.765082Z",
     "iopub.status.idle": "2023-08-25T17:54:48.853493Z",
     "shell.execute_reply": "2023-08-25T17:54:48.851785Z"
    },
    "papermill": {
     "duration": 0.097975,
     "end_time": "2023-08-25T17:54:48.856658",
     "exception": false,
     "start_time": "2023-08-25T17:54:48.758683",
     "status": "completed"
    },
    "tags": []
   },
   "outputs": [],
   "source": [
    "train = pd.read_csv(\"/kaggle/input/nlp-getting-started/train.csv\")\n",
    "test = pd.read_csv(\"/kaggle/input/nlp-getting-started/test.csv\")"
   ]
  },
  {
   "cell_type": "code",
   "execution_count": 3,
   "id": "2277b64e",
   "metadata": {
    "execution": {
     "iopub.execute_input": "2023-08-25T17:54:48.867063Z",
     "iopub.status.busy": "2023-08-25T17:54:48.866635Z",
     "iopub.status.idle": "2023-08-25T17:54:57.621870Z",
     "shell.execute_reply": "2023-08-25T17:54:57.620356Z"
    },
    "papermill": {
     "duration": 8.763737,
     "end_time": "2023-08-25T17:54:57.624700",
     "exception": false,
     "start_time": "2023-08-25T17:54:48.860963",
     "status": "completed"
    },
    "tags": []
   },
   "outputs": [],
   "source": [
    "VOCAB_SIZE=1000\n",
    "train = train.fillna('other', axis=0)\n",
    "test = test.fillna('other', axis=0)\n",
    "\n",
    "# Build text dataset\n",
    "tfds = tf.data.Dataset.from_tensor_slices((list(train['text'].values), train['target'].values))\n",
    "train_ds = tfds.take(5000)\n",
    "val_ds = tfds.skip(5000)\n",
    "train_ds = train_ds.shuffle(1000).batch(32).prefetch(tf.data.AUTOTUNE)\n",
    "val_ds = val_ds.batch(32).prefetch(tf.data.AUTOTUNE)\n",
    "\n",
    "# Build keyword dataset\n",
    "tfds_extra = tf.data.Dataset.from_tensor_slices((list(train['keyword'].values), train['target'].values))\n",
    "train_extra = tfds_extra.take(5000)\n",
    "val_extra = tfds_extra.skip(5000)\n",
    "train_extra = train_extra.shuffle(1000).batch(32).prefetch(tf.data.AUTOTUNE)\n",
    "val_extra = val_extra.shuffle(1000).batch(32).prefetch(tf.data.AUTOTUNE)\n",
    "\n",
    "# Build encoder layer\n",
    "encoder = tf.keras.layers.TextVectorization(max_tokens=VOCAB_SIZE)\n",
    "encoder.adapt(tfds.map(lambda text, lab: text))"
   ]
  },
  {
   "cell_type": "markdown",
   "id": "63f5d18f",
   "metadata": {},
   "source": [
    "### Sample of vocabulary"
   ]
  },
  {
   "cell_type": "code",
   "execution_count": 4,
   "id": "ff790030",
   "metadata": {
    "execution": {
     "iopub.execute_input": "2023-08-25T17:54:57.634813Z",
     "iopub.status.busy": "2023-08-25T17:54:57.634349Z",
     "iopub.status.idle": "2023-08-25T17:54:57.648887Z",
     "shell.execute_reply": "2023-08-25T17:54:57.647556Z"
    },
    "papermill": {
     "duration": 0.02266,
     "end_time": "2023-08-25T17:54:57.651558",
     "exception": false,
     "start_time": "2023-08-25T17:54:57.628898",
     "status": "completed"
    },
    "tags": []
   },
   "outputs": [
    {
     "data": {
      "text/plain": [
       "array(['', '[UNK]', 'the', 'a', 'in', 'to', 'of', 'and', 'i', 'is', 'for',\n",
       "       'on', 'you', 'my', 'with', 'it', 'that', 'at', 'by', 'this'],\n",
       "      dtype='<U17')"
      ]
     },
     "execution_count": 4,
     "metadata": {},
     "output_type": "execute_result"
    }
   ],
   "source": [
    "vocab = np.array(encoder.get_vocabulary())\n",
    "vocab[0:20]"
   ]
  },
  {
   "cell_type": "code",
   "execution_count": 5,
   "id": "a2c41eed",
   "metadata": {
    "execution": {
     "iopub.execute_input": "2023-08-25T17:54:57.661603Z",
     "iopub.status.busy": "2023-08-25T17:54:57.661208Z",
     "iopub.status.idle": "2023-08-25T17:54:57.666860Z",
     "shell.execute_reply": "2023-08-25T17:54:57.665637Z"
    },
    "papermill": {
     "duration": 0.013932,
     "end_time": "2023-08-25T17:54:57.669733",
     "exception": false,
     "start_time": "2023-08-25T17:54:57.655801",
     "status": "completed"
    },
    "tags": []
   },
   "outputs": [],
   "source": [
    "def generator():\n",
    "    for i in range(len(test)):\n",
    "        yield {'text': test['text'][i], 'keyword': test['keyword'][i]}"
   ]
  },
  {
   "cell_type": "markdown",
   "id": "2ec3a4f3",
   "metadata": {},
   "source": [
    "## Build Model"
   ]
  },
  {
   "cell_type": "markdown",
   "id": "52b8643b",
   "metadata": {},
   "source": [
    "Build separate networks for full text and keyword inputs and combine them."
   ]
  },
  {
   "cell_type": "code",
   "execution_count": 6,
   "id": "120764b1",
   "metadata": {
    "execution": {
     "iopub.execute_input": "2023-08-25T17:54:57.679867Z",
     "iopub.status.busy": "2023-08-25T17:54:57.679457Z",
     "iopub.status.idle": "2023-08-25T17:55:00.390405Z",
     "shell.execute_reply": "2023-08-25T17:55:00.388832Z"
    },
    "papermill": {
     "duration": 2.719298,
     "end_time": "2023-08-25T17:55:00.393311",
     "exception": false,
     "start_time": "2023-08-25T17:54:57.674013",
     "status": "completed"
    },
    "tags": []
   },
   "outputs": [],
   "source": [
    "text_input = tf.keras.Input(shape=(1,), dtype=tf.string)\n",
    "text_model = encoder(text_input)\n",
    "text_model = tf.keras.layers.Embedding(\n",
    "        input_dim=len(vocab),\n",
    "        output_dim=64,\n",
    "        mask_zero=True)(text_model)\n",
    "text_model = tf.keras.layers.Bidirectional(tf.keras.layers.LSTM(64))(text_model)\n",
    "text_model = tf.keras.layers.Dense(64, activation='relu')(text_model)\n",
    "text_model = tf.keras.layers.Dense(1)(text_model)\n",
    "\n",
    "extra_input = tf.keras.Input(shape=(1,), dtype=tf.string)\n",
    "extra_model = encoder(extra_input)\n",
    "extra_model = tf.keras.layers.Embedding(\n",
    "        input_dim=len(vocab),\n",
    "        output_dim=64,\n",
    "        input_length=1)(extra_model)\n",
    "extra_model = tf.keras.layers.GlobalAveragePooling1D()(extra_model)\n",
    "extra_model = tf.keras.layers.Dense(64, activation='relu')(extra_model)\n",
    "extra_model = tf.keras.layers.Dense(1)(extra_model)\n",
    "\n",
    "comb_model = tf.keras.layers.concatenate([text_model, extra_model])\n",
    "comb_model = tf.keras.layers.Dense(1)(comb_model)\n",
    "comb_model = tf.keras.Model(inputs=[text_input, extra_input], outputs=comb_model)"
   ]
  },
  {
   "cell_type": "markdown",
   "id": "72f11a61",
   "metadata": {},
   "source": [
    "## Train Model"
   ]
  },
  {
   "cell_type": "code",
   "execution_count": 7,
   "id": "9337633a",
   "metadata": {
    "execution": {
     "iopub.execute_input": "2023-08-25T17:55:00.403696Z",
     "iopub.status.busy": "2023-08-25T17:55:00.403225Z",
     "iopub.status.idle": "2023-08-25T17:56:32.186528Z",
     "shell.execute_reply": "2023-08-25T17:56:32.185216Z"
    },
    "papermill": {
     "duration": 91.873019,
     "end_time": "2023-08-25T17:56:32.270593",
     "exception": false,
     "start_time": "2023-08-25T17:55:00.397574",
     "status": "completed"
    },
    "tags": []
   },
   "outputs": [
    {
     "name": "stdout",
     "output_type": "stream",
     "text": [
      "Epoch 1/10\n",
      "167/167 [==============================] - 19s 54ms/step - loss: 0.6886 - accuracy: 0.5755 - val_loss: 0.6864 - val_accuracy: 0.5582\n",
      "Epoch 2/10\n",
      "167/167 [==============================] - 6s 36ms/step - loss: 0.6610 - accuracy: 0.5755 - val_loss: 0.6490 - val_accuracy: 0.5582\n",
      "Epoch 3/10\n",
      "167/167 [==============================] - 6s 33ms/step - loss: 0.5787 - accuracy: 0.6382 - val_loss: 0.5611 - val_accuracy: 0.7207\n",
      "Epoch 4/10\n",
      "167/167 [==============================] - 6s 34ms/step - loss: 0.4822 - accuracy: 0.7840 - val_loss: 0.5205 - val_accuracy: 0.7526\n",
      "Epoch 5/10\n",
      "167/167 [==============================] - 6s 33ms/step - loss: 0.4396 - accuracy: 0.8024 - val_loss: 0.5129 - val_accuracy: 0.7509\n",
      "Epoch 6/10\n",
      "167/167 [==============================] - 6s 34ms/step - loss: 0.4167 - accuracy: 0.8135 - val_loss: 0.5419 - val_accuracy: 0.7653\n",
      "Epoch 7/10\n",
      "167/167 [==============================] - 6s 39ms/step - loss: 0.3996 - accuracy: 0.8223 - val_loss: 0.5141 - val_accuracy: 0.7544\n",
      "Epoch 8/10\n",
      "167/167 [==============================] - 6s 33ms/step - loss: 0.3875 - accuracy: 0.8302 - val_loss: 0.5197 - val_accuracy: 0.7640\n",
      "Epoch 9/10\n",
      "167/167 [==============================] - 6s 34ms/step - loss: 0.3755 - accuracy: 0.8360 - val_loss: 0.5323 - val_accuracy: 0.7605\n",
      "Epoch 10/10\n",
      "167/167 [==============================] - 6s 37ms/step - loss: 0.3696 - accuracy: 0.8399 - val_loss: 0.5283 - val_accuracy: 0.7618\n"
     ]
    },
    {
     "data": {
      "text/plain": [
       "<keras.callbacks.History at 0x7a46aef726e0>"
      ]
     },
     "execution_count": 7,
     "metadata": {},
     "output_type": "execute_result"
    }
   ],
   "source": [
    "\n",
    "comb_model.compile(loss=tf.keras.losses.BinaryCrossentropy(from_logits=True),\n",
    "              optimizer=tf.keras.optimizers.Adam(1e-4),\n",
    "              metrics=['accuracy'])\n",
    "comb_model.fit(x=[train['text'], train['keyword']], y=train['target'],\n",
    "               epochs=10, validation_split=0.3, batch_size=32)"
   ]
  },
  {
   "cell_type": "code",
   "execution_count": 8,
   "id": "d32cfa25",
   "metadata": {
    "execution": {
     "iopub.execute_input": "2023-08-25T17:56:32.441203Z",
     "iopub.status.busy": "2023-08-25T17:56:32.440819Z",
     "iopub.status.idle": "2023-08-25T17:56:36.594663Z",
     "shell.execute_reply": "2023-08-25T17:56:36.593358Z"
    },
    "papermill": {
     "duration": 4.241791,
     "end_time": "2023-08-25T17:56:36.598284",
     "exception": false,
     "start_time": "2023-08-25T17:56:32.356493",
     "status": "completed"
    },
    "tags": []
   },
   "outputs": [
    {
     "name": "stdout",
     "output_type": "stream",
     "text": [
      "102/102 [==============================] - 4s 10ms/step\n"
     ]
    }
   ],
   "source": [
    "targets = comb_model.predict(x=[test['text'], test['keyword']])\n",
    "targets = [1 if target > 0 else 0 for target in targets]\n",
    "test['target'] = targets\n",
    "test[['id','target']].to_csv(\"/kaggle/working/submission.csv\", index=False)"
   ]
  }
 ],
 "metadata": {
  "kernelspec": {
   "display_name": "Python 3",
   "language": "python",
   "name": "python3"
  },
  "language_info": {
   "codemirror_mode": {
    "name": "ipython",
    "version": 3
   },
   "file_extension": ".py",
   "mimetype": "text/x-python",
   "name": "python",
   "nbconvert_exporter": "python",
   "pygments_lexer": "ipython3",
   "version": "3.10.12"
  },
  "papermill": {
   "default_parameters": {},
   "duration": 134.901637,
   "end_time": "2023-08-25T17:56:39.755185",
   "environment_variables": {},
   "exception": null,
   "input_path": "__notebook__.ipynb",
   "output_path": "__notebook__.ipynb",
   "parameters": {},
   "start_time": "2023-08-25T17:54:24.853548",
   "version": "2.4.0"
  }
 },
 "nbformat": 4,
 "nbformat_minor": 5
}
