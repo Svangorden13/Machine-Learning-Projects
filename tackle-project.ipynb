{
 "cells": [
  {
   "cell_type": "code",
   "execution_count": 1,
   "id": "aa081b5d",
   "metadata": {
    "execution": {
     "iopub.execute_input": "2023-11-10T18:27:32.019957Z",
     "iopub.status.busy": "2023-11-10T18:27:32.018870Z",
     "iopub.status.idle": "2023-11-10T18:27:34.728813Z",
     "shell.execute_reply": "2023-11-10T18:27:34.727214Z"
    },
    "papermill": {
     "duration": 2.720665,
     "end_time": "2023-11-10T18:27:34.731683",
     "exception": false,
     "start_time": "2023-11-10T18:27:32.011018",
     "status": "completed"
    },
    "tags": []
   },
   "outputs": [],
   "source": [
    "import numpy as np\n",
    "import pandas as pd\n",
    "import gc\n",
    "from sklearn import svm\n",
    "from sklearn.ensemble import RandomForestClassifier"
   ]
  },
  {
   "cell_type": "markdown",
   "id": "c2d87000",
   "metadata": {
    "papermill": {
     "duration": 0.004617,
     "end_time": "2023-11-10T18:27:34.743469",
     "exception": false,
     "start_time": "2023-11-10T18:27:34.738852",
     "status": "completed"
    },
    "tags": []
   },
   "source": [
    "## Data Preprocessing"
   ]
  },
  {
   "cell_type": "code",
   "execution_count": 2,
   "id": "9722af78",
   "metadata": {
    "execution": {
     "iopub.execute_input": "2023-11-10T18:27:34.755136Z",
     "iopub.status.busy": "2023-11-10T18:27:34.754574Z",
     "iopub.status.idle": "2023-11-10T18:28:13.232919Z",
     "shell.execute_reply": "2023-11-10T18:28:13.231645Z"
    },
    "papermill": {
     "duration": 38.487329,
     "end_time": "2023-11-10T18:28:13.235637",
     "exception": false,
     "start_time": "2023-11-10T18:27:34.748308",
     "status": "completed"
    },
    "tags": []
   },
   "outputs": [],
   "source": [
    "# Input directory for datasets\n",
    "in_dir = \"/kaggle/input/nfl-big-data-bowl-2024/\"\n",
    "\n",
    "# Load datasets\n",
    "games = pd.read_csv(in_dir+\"games.csv\", header=0)\n",
    "players = pd.read_csv(in_dir+\"players.csv\", header=0)\n",
    "plays = pd.read_csv(in_dir+\"plays.csv\", header=0)\n",
    "tackles = pd.read_csv(in_dir+\"tackles.csv\", header=0)\n",
    "tracking1 = pd.read_csv(in_dir+\"tracking_week_1.csv\", header=0)\n",
    "tracking2 = pd.read_csv(in_dir+\"tracking_week_2.csv\", header=0)\n",
    "tracking3 = pd.read_csv(in_dir+\"tracking_week_3.csv\", header=0)\n",
    "tracking4 = pd.read_csv(in_dir+\"tracking_week_4.csv\", header=0)\n",
    "tracking5 = pd.read_csv(in_dir+\"tracking_week_5.csv\", header=0)\n",
    "tracking6 = pd.read_csv(in_dir+\"tracking_week_6.csv\", header=0)\n",
    "tracking7 = pd.read_csv(in_dir+\"tracking_week_7.csv\", header=0)\n",
    "tracking8 = pd.read_csv(in_dir+\"tracking_week_8.csv\", header=0)\n",
    "tracking9 = pd.read_csv(in_dir+\"tracking_week_9.csv\", header=0)"
   ]
  },
  {
   "cell_type": "code",
   "execution_count": 3,
   "id": "5f7880a4",
   "metadata": {
    "execution": {
     "iopub.execute_input": "2023-11-10T18:28:13.247540Z",
     "iopub.status.busy": "2023-11-10T18:28:13.247124Z",
     "iopub.status.idle": "2023-11-10T18:28:22.607637Z",
     "shell.execute_reply": "2023-11-10T18:28:22.606719Z"
    },
    "papermill": {
     "duration": 9.369706,
     "end_time": "2023-11-10T18:28:22.610539",
     "exception": false,
     "start_time": "2023-11-10T18:28:13.240833",
     "status": "completed"
    },
    "tags": []
   },
   "outputs": [
    {
     "data": {
      "text/plain": [
       "0"
      ]
     },
     "execution_count": 3,
     "metadata": {},
     "output_type": "execute_result"
    }
   ],
   "source": [
    "tracking = tracking1\n",
    "for ds in [tracking2, tracking3, tracking4, tracking5, tracking6, tracking7, tracking8, tracking9]:\n",
    "    tracking = pd.concat([tracking, ds], axis=0)\n",
    "del tracking1\n",
    "del tracking2\n",
    "del tracking3\n",
    "del tracking4\n",
    "del tracking5\n",
    "del tracking6\n",
    "del tracking7\n",
    "del tracking8\n",
    "del tracking9\n",
    "gc.collect()"
   ]
  },
  {
   "cell_type": "code",
   "execution_count": 4,
   "id": "bae3f7d8",
   "metadata": {
    "execution": {
     "iopub.execute_input": "2023-11-10T18:28:22.622588Z",
     "iopub.status.busy": "2023-11-10T18:28:22.622135Z",
     "iopub.status.idle": "2023-11-10T18:28:35.990959Z",
     "shell.execute_reply": "2023-11-10T18:28:35.989789Z"
    },
    "papermill": {
     "duration": 13.379478,
     "end_time": "2023-11-10T18:28:35.995160",
     "exception": false,
     "start_time": "2023-11-10T18:28:22.615682",
     "status": "completed"
    },
    "tags": []
   },
   "outputs": [
    {
     "data": {
      "text/plain": [
       "{'gameDate',\n",
       " 'gameTimeEastern',\n",
       " 'homeFinalScore',\n",
       " 'homeTeamAbbr',\n",
       " 'season',\n",
       " 'visitorFinalScore',\n",
       " 'visitorTeamAbbr',\n",
       " 'week'}"
      ]
     },
     "execution_count": 4,
     "metadata": {},
     "output_type": "execute_result"
    }
   ],
   "source": [
    "# Didn't end up needing to remove duplicate columns,\n",
    "# but keeping anyway in case needed later\n",
    "games_col = set(games.columns)\n",
    "track_col = set(tracking.columns)\n",
    "col_diff = games_col.difference(track_col)\n",
    "col_diff.add(\"gameId\")\n",
    "\n",
    "# Join games and tracking datasets for game-level data\n",
    "game_data = pd.merge(tracking, games, on=\"gameId\")\n",
    "# Join plays and tracking datasets for play-level data\n",
    "play_data = pd.merge(tracking, plays, on=[\"gameId\", \"playId\"])\n",
    "del tracking\n",
    "del games\n",
    "del plays\n",
    "gc.collect()\n",
    "set(game_data.columns).difference(set(play_data.columns))"
   ]
  },
  {
   "cell_type": "code",
   "execution_count": 5,
   "id": "b4e8bced",
   "metadata": {
    "execution": {
     "iopub.execute_input": "2023-11-10T18:28:36.011899Z",
     "iopub.status.busy": "2023-11-10T18:28:36.011361Z",
     "iopub.status.idle": "2023-11-10T18:28:56.524847Z",
     "shell.execute_reply": "2023-11-10T18:28:56.523519Z"
    },
    "papermill": {
     "duration": 20.522963,
     "end_time": "2023-11-10T18:28:56.527307",
     "exception": false,
     "start_time": "2023-11-10T18:28:36.004344",
     "status": "completed"
    },
    "tags": []
   },
   "outputs": [
    {
     "name": "stderr",
     "output_type": "stream",
     "text": [
      "/tmp/ipykernel_20/2304960087.py:6: SettingWithCopyWarning: \n",
      "A value is trying to be set on a copy of a slice from a DataFrame.\n",
      "Try using .loc[row_indexer,col_indexer] = value instead\n",
      "\n",
      "See the caveats in the documentation: https://pandas.pydata.org/pandas-docs/stable/user_guide/indexing.html#returning-a-view-versus-a-copy\n",
      "  fouls_data[\"foul\"] = [0 if pd.isnull(x) & pd.isnull(y) else 1 for x, y in zip(fouls_data.foulName1, fouls_data.foulName2)]\n"
     ]
    }
   ],
   "source": [
    "#foul_plays = play_data.loc[pd.isnull(play_data[\"foulName1\"]) == False]\n",
    "#fouls_plays = foul_plays.loc[pd.isnull(foul_plays[\"foulName2\"]) == False]\n",
    "\n",
    "# Create new column representing whether or not foul occurred on play\n",
    "fouls_data = play_data[[\"foulName1\", \"foulName2\", \"x\", \"y\", \"s\", \"a\", \"dis\", \"o\", \"dir\", \"event\"]]\n",
    "fouls_data[\"foul\"] = [0 if pd.isnull(x) & pd.isnull(y) else 1 for x, y in zip(fouls_data.foulName1, fouls_data.foulName2)]"
   ]
  },
  {
   "cell_type": "code",
   "execution_count": 6,
   "id": "2f3a8586",
   "metadata": {
    "execution": {
     "iopub.execute_input": "2023-11-10T18:28:56.540191Z",
     "iopub.status.busy": "2023-11-10T18:28:56.539408Z",
     "iopub.status.idle": "2023-11-10T18:28:56.673286Z",
     "shell.execute_reply": "2023-11-10T18:28:56.671976Z"
    },
    "papermill": {
     "duration": 0.143094,
     "end_time": "2023-11-10T18:28:56.675710",
     "exception": false,
     "start_time": "2023-11-10T18:28:56.532616",
     "status": "completed"
    },
    "tags": []
   },
   "outputs": [
    {
     "data": {
      "text/html": [
       "<div>\n",
       "<style scoped>\n",
       "    .dataframe tbody tr th:only-of-type {\n",
       "        vertical-align: middle;\n",
       "    }\n",
       "\n",
       "    .dataframe tbody tr th {\n",
       "        vertical-align: top;\n",
       "    }\n",
       "\n",
       "    .dataframe thead th {\n",
       "        text-align: right;\n",
       "    }\n",
       "</style>\n",
       "<table border=\"1\" class=\"dataframe\">\n",
       "  <thead>\n",
       "    <tr style=\"text-align: right;\">\n",
       "      <th></th>\n",
       "      <th>foulName1</th>\n",
       "      <th>foulName2</th>\n",
       "      <th>x</th>\n",
       "      <th>y</th>\n",
       "      <th>s</th>\n",
       "      <th>a</th>\n",
       "      <th>dis</th>\n",
       "      <th>o</th>\n",
       "      <th>dir</th>\n",
       "      <th>event</th>\n",
       "      <th>foul</th>\n",
       "    </tr>\n",
       "  </thead>\n",
       "  <tbody>\n",
       "    <tr>\n",
       "      <th>15571</th>\n",
       "      <td>Horse Collar Tackle</td>\n",
       "      <td>NaN</td>\n",
       "      <td>59.59</td>\n",
       "      <td>22.47</td>\n",
       "      <td>2.12</td>\n",
       "      <td>0.43</td>\n",
       "      <td>0.23</td>\n",
       "      <td>277.16</td>\n",
       "      <td>202.14</td>\n",
       "      <td>NaN</td>\n",
       "      <td>1</td>\n",
       "    </tr>\n",
       "    <tr>\n",
       "      <th>15572</th>\n",
       "      <td>Horse Collar Tackle</td>\n",
       "      <td>NaN</td>\n",
       "      <td>59.50</td>\n",
       "      <td>22.26</td>\n",
       "      <td>2.16</td>\n",
       "      <td>0.51</td>\n",
       "      <td>0.23</td>\n",
       "      <td>278.81</td>\n",
       "      <td>203.61</td>\n",
       "      <td>pass_arrived</td>\n",
       "      <td>1</td>\n",
       "    </tr>\n",
       "    <tr>\n",
       "      <th>15573</th>\n",
       "      <td>Horse Collar Tackle</td>\n",
       "      <td>NaN</td>\n",
       "      <td>59.41</td>\n",
       "      <td>22.07</td>\n",
       "      <td>2.16</td>\n",
       "      <td>0.61</td>\n",
       "      <td>0.22</td>\n",
       "      <td>278.81</td>\n",
       "      <td>205.72</td>\n",
       "      <td>NaN</td>\n",
       "      <td>1</td>\n",
       "    </tr>\n",
       "    <tr>\n",
       "      <th>15574</th>\n",
       "      <td>Horse Collar Tackle</td>\n",
       "      <td>NaN</td>\n",
       "      <td>59.30</td>\n",
       "      <td>21.87</td>\n",
       "      <td>2.22</td>\n",
       "      <td>0.72</td>\n",
       "      <td>0.23</td>\n",
       "      <td>282.38</td>\n",
       "      <td>208.46</td>\n",
       "      <td>NaN</td>\n",
       "      <td>1</td>\n",
       "    </tr>\n",
       "    <tr>\n",
       "      <th>15575</th>\n",
       "      <td>Horse Collar Tackle</td>\n",
       "      <td>NaN</td>\n",
       "      <td>59.18</td>\n",
       "      <td>21.67</td>\n",
       "      <td>2.23</td>\n",
       "      <td>0.79</td>\n",
       "      <td>0.23</td>\n",
       "      <td>285.15</td>\n",
       "      <td>211.16</td>\n",
       "      <td>NaN</td>\n",
       "      <td>1</td>\n",
       "    </tr>\n",
       "  </tbody>\n",
       "</table>\n",
       "</div>"
      ],
      "text/plain": [
       "                 foulName1 foulName2      x      y     s     a   dis       o  \\\n",
       "15571  Horse Collar Tackle       NaN  59.59  22.47  2.12  0.43  0.23  277.16   \n",
       "15572  Horse Collar Tackle       NaN  59.50  22.26  2.16  0.51  0.23  278.81   \n",
       "15573  Horse Collar Tackle       NaN  59.41  22.07  2.16  0.61  0.22  278.81   \n",
       "15574  Horse Collar Tackle       NaN  59.30  21.87  2.22  0.72  0.23  282.38   \n",
       "15575  Horse Collar Tackle       NaN  59.18  21.67  2.23  0.79  0.23  285.15   \n",
       "\n",
       "          dir         event  foul  \n",
       "15571  202.14           NaN     1  \n",
       "15572  203.61  pass_arrived     1  \n",
       "15573  205.72           NaN     1  \n",
       "15574  208.46           NaN     1  \n",
       "15575  211.16           NaN     1  "
      ]
     },
     "execution_count": 6,
     "metadata": {},
     "output_type": "execute_result"
    }
   ],
   "source": [
    "fouls_data.loc[fouls_data.foul == 1].head()"
   ]
  },
  {
   "cell_type": "code",
   "execution_count": 7,
   "id": "e94861e5",
   "metadata": {
    "execution": {
     "iopub.execute_input": "2023-11-10T18:28:56.689184Z",
     "iopub.status.busy": "2023-11-10T18:28:56.688286Z",
     "iopub.status.idle": "2023-11-10T18:28:59.647719Z",
     "shell.execute_reply": "2023-11-10T18:28:59.646714Z"
    },
    "papermill": {
     "duration": 2.969063,
     "end_time": "2023-11-10T18:28:59.650407",
     "exception": false,
     "start_time": "2023-11-10T18:28:56.681344",
     "status": "completed"
    },
    "tags": []
   },
   "outputs": [],
   "source": [
    "# Generate train and test data for binary classifiers\n",
    "fouls_data_red = fouls_data.sample(10000)\n",
    "X = fouls_data_red[[\"x\",\"y\",\"s\",\"a\",\"dis\",\"o\",\"dir\"]]\n",
    "y = fouls_data_red[\"foul\"]\n",
    "fouls_data_test = fouls_data.drop(fouls_data_red.index).sample(1000)\n",
    "X_test = fouls_data_test[[\"x\",\"y\",\"s\",\"a\",\"dis\",\"o\",\"dir\"]]\n",
    "y_test = fouls_data_test[\"foul\"]\n",
    "\n",
    "# Replace NaN values with mean of non-NaN values\n",
    "X_means = X.mean(skipna=True)\n",
    "X_repmean = X.fillna(X_means)\n",
    "X_test_means = X_test.mean(skipna=True)\n",
    "X_test_repmean = X_test.fillna(X_test_means)"
   ]
  },
  {
   "cell_type": "code",
   "execution_count": 8,
   "id": "e0d41a96",
   "metadata": {
    "execution": {
     "iopub.execute_input": "2023-11-10T18:28:59.663630Z",
     "iopub.status.busy": "2023-11-10T18:28:59.663235Z",
     "iopub.status.idle": "2023-11-10T18:29:01.487737Z",
     "shell.execute_reply": "2023-11-10T18:29:01.486596Z"
    },
    "papermill": {
     "duration": 1.834258,
     "end_time": "2023-11-10T18:29:01.490458",
     "exception": false,
     "start_time": "2023-11-10T18:28:59.656200",
     "status": "completed"
    },
    "tags": []
   },
   "outputs": [],
   "source": [
    "# Generate artificially balanced data\n",
    "fouls_data_bal_1 = fouls_data.loc[fouls_data[\"foul\"] == 1].sample(5500)\n",
    "fouls_data_bal_0 = fouls_data.loc[fouls_data[\"foul\"] == 0].sample(5500)\n",
    "fouls_data_bal = pd.concat([fouls_data_bal_1, fouls_data_bal_0]).sample(frac=1)\n",
    "fouls_data_bal.reindex()\n",
    "\n",
    "# Sample from balanced data to get test data\n",
    "fouls_data_test_bal = fouls_data_bal.sample(1000)\n",
    "fouls_data_bal = fouls_data_bal.drop(fouls_data_test_bal.index)\n",
    "\n",
    "X = fouls_data_bal[[\"x\",\"y\",\"s\",\"a\",\"dis\",\"o\",\"dir\"]]\n",
    "y = fouls_data_bal[\"foul\"]\n",
    "X_test = fouls_data_test_bal[[\"x\",\"y\",\"s\",\"a\",\"dis\",\"o\",\"dir\"]]\n",
    "y_test = fouls_data_test_bal[\"foul\"]\n",
    "\n",
    "# Replace NaN values with mean of non-NaN values\n",
    "X_means = X.mean(skipna=True)\n",
    "X_repmean = X.fillna(X_means)\n",
    "X_test_means = X_test.mean(skipna=True)\n",
    "X_test_repmean = X_test.fillna(X_test_means)"
   ]
  },
  {
   "cell_type": "code",
   "execution_count": 9,
   "id": "861a79b5",
   "metadata": {
    "execution": {
     "iopub.execute_input": "2023-11-10T18:29:01.503669Z",
     "iopub.status.busy": "2023-11-10T18:29:01.503106Z",
     "iopub.status.idle": "2023-11-10T18:29:01.511708Z",
     "shell.execute_reply": "2023-11-10T18:29:01.510482Z"
    },
    "papermill": {
     "duration": 0.017856,
     "end_time": "2023-11-10T18:29:01.514001",
     "exception": false,
     "start_time": "2023-11-10T18:29:01.496145",
     "status": "completed"
    },
    "tags": []
   },
   "outputs": [
    {
     "data": {
      "text/plain": [
       "495"
      ]
     },
     "execution_count": 9,
     "metadata": {},
     "output_type": "execute_result"
    }
   ],
   "source": [
    "sum(fouls_data_test_bal[\"foul\"] == 1)"
   ]
  },
  {
   "cell_type": "code",
   "execution_count": 10,
   "id": "6cdfd4ef",
   "metadata": {
    "execution": {
     "iopub.execute_input": "2023-11-10T18:29:01.527198Z",
     "iopub.status.busy": "2023-11-10T18:29:01.526796Z",
     "iopub.status.idle": "2023-11-10T18:29:01.534166Z",
     "shell.execute_reply": "2023-11-10T18:29:01.532810Z"
    },
    "papermill": {
     "duration": 0.016664,
     "end_time": "2023-11-10T18:29:01.536538",
     "exception": false,
     "start_time": "2023-11-10T18:29:01.519874",
     "status": "completed"
    },
    "tags": []
   },
   "outputs": [
    {
     "data": {
      "text/plain": [
       "0.495"
      ]
     },
     "execution_count": 10,
     "metadata": {},
     "output_type": "execute_result"
    }
   ],
   "source": [
    "sum(y_test)/len(y_test)"
   ]
  },
  {
   "cell_type": "markdown",
   "id": "2d74e4fb",
   "metadata": {
    "papermill": {
     "duration": 0.005733,
     "end_time": "2023-11-10T18:29:01.548556",
     "exception": false,
     "start_time": "2023-11-10T18:29:01.542823",
     "status": "completed"
    },
    "tags": []
   },
   "source": [
    "## SVM Model"
   ]
  },
  {
   "cell_type": "code",
   "execution_count": 11,
   "id": "5c18f3ac",
   "metadata": {
    "execution": {
     "iopub.execute_input": "2023-11-10T18:29:01.561642Z",
     "iopub.status.busy": "2023-11-10T18:29:01.561254Z",
     "iopub.status.idle": "2023-11-10T18:29:05.849358Z",
     "shell.execute_reply": "2023-11-10T18:29:05.848082Z"
    },
    "papermill": {
     "duration": 4.297734,
     "end_time": "2023-11-10T18:29:05.851959",
     "exception": false,
     "start_time": "2023-11-10T18:29:01.554225",
     "status": "completed"
    },
    "tags": []
   },
   "outputs": [
    {
     "data": {
      "text/plain": [
       "array([[9.9770e+01, 2.8460e+01, 2.0200e+00, ..., 2.1000e-01, 1.6073e+02,\n",
       "        1.5332e+02],\n",
       "       [3.2630e+01, 2.1150e+01, 7.8000e-01, ..., 8.0000e-02, 2.6779e+02,\n",
       "        2.5052e+02],\n",
       "       [4.9000e+01, 2.3040e+01, 2.8800e+00, ..., 3.1000e-01, 1.4322e+02,\n",
       "        1.7435e+02],\n",
       "       ...,\n",
       "       [1.1840e+01, 2.5210e+01, 2.5800e+00, ..., 2.6000e-01, 3.3459e+02,\n",
       "        7.6800e+00],\n",
       "       [3.5330e+01, 2.3960e+01, 3.2600e+00, ..., 3.4000e-01, 7.3070e+01,\n",
       "        1.7689e+02],\n",
       "       [5.5190e+01, 3.7260e+01, 2.3700e+00, ..., 2.4000e-01, 2.5713e+02,\n",
       "        1.9671e+02]])"
      ]
     },
     "execution_count": 11,
     "metadata": {},
     "output_type": "execute_result"
    }
   ],
   "source": [
    "clf = svm.SVC()\n",
    "clf.fit(X_repmean, y)\n",
    "clf.support_vectors_"
   ]
  },
  {
   "cell_type": "code",
   "execution_count": 12,
   "id": "5c0d3a3c",
   "metadata": {
    "execution": {
     "iopub.execute_input": "2023-11-10T18:29:05.865573Z",
     "iopub.status.busy": "2023-11-10T18:29:05.865156Z",
     "iopub.status.idle": "2023-11-10T18:29:05.872242Z",
     "shell.execute_reply": "2023-11-10T18:29:05.871081Z"
    },
    "papermill": {
     "duration": 0.016675,
     "end_time": "2023-11-10T18:29:05.874552",
     "exception": false,
     "start_time": "2023-11-10T18:29:05.857877",
     "status": "completed"
    },
    "tags": []
   },
   "outputs": [
    {
     "data": {
      "text/plain": [
       "9746"
      ]
     },
     "execution_count": 12,
     "metadata": {},
     "output_type": "execute_result"
    }
   ],
   "source": [
    "len(clf.support_vectors_)"
   ]
  },
  {
   "cell_type": "code",
   "execution_count": 13,
   "id": "60add1c8",
   "metadata": {
    "execution": {
     "iopub.execute_input": "2023-11-10T18:29:05.888202Z",
     "iopub.status.busy": "2023-11-10T18:29:05.887802Z",
     "iopub.status.idle": "2023-11-10T18:29:06.418152Z",
     "shell.execute_reply": "2023-11-10T18:29:06.416978Z"
    },
    "papermill": {
     "duration": 0.540401,
     "end_time": "2023-11-10T18:29:06.420957",
     "exception": false,
     "start_time": "2023-11-10T18:29:05.880556",
     "status": "completed"
    },
    "tags": []
   },
   "outputs": [
    {
     "data": {
      "text/plain": [
       "0.527"
      ]
     },
     "execution_count": 13,
     "metadata": {},
     "output_type": "execute_result"
    }
   ],
   "source": [
    "preds = clf.predict(X_test_repmean)\n",
    "true_pred = sum(preds == y_test)\n",
    "true_pred/len(y_test)"
   ]
  },
  {
   "cell_type": "markdown",
   "id": "91143148",
   "metadata": {
    "papermill": {
     "duration": 0.00587,
     "end_time": "2023-11-10T18:29:06.433083",
     "exception": false,
     "start_time": "2023-11-10T18:29:06.427213",
     "status": "completed"
    },
    "tags": []
   },
   "source": [
    "## Random Forest Model"
   ]
  },
  {
   "cell_type": "code",
   "execution_count": 14,
   "id": "08bdfc0e",
   "metadata": {
    "execution": {
     "iopub.execute_input": "2023-11-10T18:29:06.446935Z",
     "iopub.status.busy": "2023-11-10T18:29:06.446475Z",
     "iopub.status.idle": "2023-11-10T18:29:08.831613Z",
     "shell.execute_reply": "2023-11-10T18:29:08.830400Z"
    },
    "papermill": {
     "duration": 2.394787,
     "end_time": "2023-11-10T18:29:08.833904",
     "exception": false,
     "start_time": "2023-11-10T18:29:06.439117",
     "status": "completed"
    },
    "tags": []
   },
   "outputs": [
    {
     "data": {
      "text/html": [
       "<style>#sk-container-id-1 {color: black;background-color: white;}#sk-container-id-1 pre{padding: 0;}#sk-container-id-1 div.sk-toggleable {background-color: white;}#sk-container-id-1 label.sk-toggleable__label {cursor: pointer;display: block;width: 100%;margin-bottom: 0;padding: 0.3em;box-sizing: border-box;text-align: center;}#sk-container-id-1 label.sk-toggleable__label-arrow:before {content: \"▸\";float: left;margin-right: 0.25em;color: #696969;}#sk-container-id-1 label.sk-toggleable__label-arrow:hover:before {color: black;}#sk-container-id-1 div.sk-estimator:hover label.sk-toggleable__label-arrow:before {color: black;}#sk-container-id-1 div.sk-toggleable__content {max-height: 0;max-width: 0;overflow: hidden;text-align: left;background-color: #f0f8ff;}#sk-container-id-1 div.sk-toggleable__content pre {margin: 0.2em;color: black;border-radius: 0.25em;background-color: #f0f8ff;}#sk-container-id-1 input.sk-toggleable__control:checked~div.sk-toggleable__content {max-height: 200px;max-width: 100%;overflow: auto;}#sk-container-id-1 input.sk-toggleable__control:checked~label.sk-toggleable__label-arrow:before {content: \"▾\";}#sk-container-id-1 div.sk-estimator input.sk-toggleable__control:checked~label.sk-toggleable__label {background-color: #d4ebff;}#sk-container-id-1 div.sk-label input.sk-toggleable__control:checked~label.sk-toggleable__label {background-color: #d4ebff;}#sk-container-id-1 input.sk-hidden--visually {border: 0;clip: rect(1px 1px 1px 1px);clip: rect(1px, 1px, 1px, 1px);height: 1px;margin: -1px;overflow: hidden;padding: 0;position: absolute;width: 1px;}#sk-container-id-1 div.sk-estimator {font-family: monospace;background-color: #f0f8ff;border: 1px dotted black;border-radius: 0.25em;box-sizing: border-box;margin-bottom: 0.5em;}#sk-container-id-1 div.sk-estimator:hover {background-color: #d4ebff;}#sk-container-id-1 div.sk-parallel-item::after {content: \"\";width: 100%;border-bottom: 1px solid gray;flex-grow: 1;}#sk-container-id-1 div.sk-label:hover label.sk-toggleable__label {background-color: #d4ebff;}#sk-container-id-1 div.sk-serial::before {content: \"\";position: absolute;border-left: 1px solid gray;box-sizing: border-box;top: 0;bottom: 0;left: 50%;z-index: 0;}#sk-container-id-1 div.sk-serial {display: flex;flex-direction: column;align-items: center;background-color: white;padding-right: 0.2em;padding-left: 0.2em;position: relative;}#sk-container-id-1 div.sk-item {position: relative;z-index: 1;}#sk-container-id-1 div.sk-parallel {display: flex;align-items: stretch;justify-content: center;background-color: white;position: relative;}#sk-container-id-1 div.sk-item::before, #sk-container-id-1 div.sk-parallel-item::before {content: \"\";position: absolute;border-left: 1px solid gray;box-sizing: border-box;top: 0;bottom: 0;left: 50%;z-index: -1;}#sk-container-id-1 div.sk-parallel-item {display: flex;flex-direction: column;z-index: 1;position: relative;background-color: white;}#sk-container-id-1 div.sk-parallel-item:first-child::after {align-self: flex-end;width: 50%;}#sk-container-id-1 div.sk-parallel-item:last-child::after {align-self: flex-start;width: 50%;}#sk-container-id-1 div.sk-parallel-item:only-child::after {width: 0;}#sk-container-id-1 div.sk-dashed-wrapped {border: 1px dashed gray;margin: 0 0.4em 0.5em 0.4em;box-sizing: border-box;padding-bottom: 0.4em;background-color: white;}#sk-container-id-1 div.sk-label label {font-family: monospace;font-weight: bold;display: inline-block;line-height: 1.2em;}#sk-container-id-1 div.sk-label-container {text-align: center;}#sk-container-id-1 div.sk-container {/* jupyter's `normalize.less` sets `[hidden] { display: none; }` but bootstrap.min.css set `[hidden] { display: none !important; }` so we also need the `!important` here to be able to override the default hidden behavior on the sphinx rendered scikit-learn.org. See: https://github.com/scikit-learn/scikit-learn/issues/21755 */display: inline-block !important;position: relative;}#sk-container-id-1 div.sk-text-repr-fallback {display: none;}</style><div id=\"sk-container-id-1\" class=\"sk-top-container\"><div class=\"sk-text-repr-fallback\"><pre>RandomForestClassifier(max_depth=15)</pre><b>In a Jupyter environment, please rerun this cell to show the HTML representation or trust the notebook. <br />On GitHub, the HTML representation is unable to render, please try loading this page with nbviewer.org.</b></div><div class=\"sk-container\" hidden><div class=\"sk-item\"><div class=\"sk-estimator sk-toggleable\"><input class=\"sk-toggleable__control sk-hidden--visually\" id=\"sk-estimator-id-1\" type=\"checkbox\" checked><label for=\"sk-estimator-id-1\" class=\"sk-toggleable__label sk-toggleable__label-arrow\">RandomForestClassifier</label><div class=\"sk-toggleable__content\"><pre>RandomForestClassifier(max_depth=15)</pre></div></div></div></div></div>"
      ],
      "text/plain": [
       "RandomForestClassifier(max_depth=15)"
      ]
     },
     "execution_count": 14,
     "metadata": {},
     "output_type": "execute_result"
    }
   ],
   "source": [
    "rfc = RandomForestClassifier(max_depth=15)\n",
    "rfc.fit(X_repmean, y)"
   ]
  },
  {
   "cell_type": "code",
   "execution_count": 15,
   "id": "57b0f030",
   "metadata": {
    "execution": {
     "iopub.execute_input": "2023-11-10T18:29:08.848602Z",
     "iopub.status.busy": "2023-11-10T18:29:08.847662Z",
     "iopub.status.idle": "2023-11-10T18:29:08.883570Z",
     "shell.execute_reply": "2023-11-10T18:29:08.882373Z"
    },
    "papermill": {
     "duration": 0.045946,
     "end_time": "2023-11-10T18:29:08.886084",
     "exception": false,
     "start_time": "2023-11-10T18:29:08.840138",
     "status": "completed"
    },
    "tags": []
   },
   "outputs": [
    {
     "data": {
      "text/plain": [
       "0.531"
      ]
     },
     "execution_count": 15,
     "metadata": {},
     "output_type": "execute_result"
    }
   ],
   "source": [
    "preds = rfc.predict(X_test_repmean)\n",
    "true_pred = sum(preds == y_test)\n",
    "true_pred/len(y_test)"
   ]
  },
  {
   "cell_type": "markdown",
   "id": "04555bf5",
   "metadata": {
    "papermill": {
     "duration": 0.006133,
     "end_time": "2023-11-10T18:29:08.898932",
     "exception": false,
     "start_time": "2023-11-10T18:29:08.892799",
     "status": "completed"
    },
    "tags": []
   },
   "source": [
    "## Save Models"
   ]
  },
  {
   "cell_type": "code",
   "execution_count": 16,
   "id": "d73e7fe4",
   "metadata": {
    "execution": {
     "iopub.execute_input": "2023-11-10T18:29:08.913474Z",
     "iopub.status.busy": "2023-11-10T18:29:08.913078Z",
     "iopub.status.idle": "2023-11-10T18:29:08.991380Z",
     "shell.execute_reply": "2023-11-10T18:29:08.990195Z"
    },
    "papermill": {
     "duration": 0.088291,
     "end_time": "2023-11-10T18:29:08.993604",
     "exception": false,
     "start_time": "2023-11-10T18:29:08.905313",
     "status": "completed"
    },
    "tags": []
   },
   "outputs": [
    {
     "data": {
      "text/plain": [
       "['rfcmodel.joblib']"
      ]
     },
     "execution_count": 16,
     "metadata": {},
     "output_type": "execute_result"
    }
   ],
   "source": [
    "from joblib import dump\n",
    "dump(clf, \"svmmodel.joblib\")\n",
    "dump(rfc, \"rfcmodel.joblib\")"
   ]
  }
 ],
 "metadata": {
  "kernelspec": {
   "display_name": "Python 3",
   "language": "python",
   "name": "python3"
  },
  "language_info": {
   "codemirror_mode": {
    "name": "ipython",
    "version": 3
   },
   "file_extension": ".py",
   "mimetype": "text/x-python",
   "name": "python",
   "nbconvert_exporter": "python",
   "pygments_lexer": "ipython3",
   "version": "3.10.12"
  },
  "papermill": {
   "default_parameters": {},
   "duration": 102.992014,
   "end_time": "2023-11-10T18:29:10.927261",
   "environment_variables": {},
   "exception": null,
   "input_path": "__notebook__.ipynb",
   "output_path": "__notebook__.ipynb",
   "parameters": {},
   "start_time": "2023-11-10T18:27:27.935247",
   "version": "2.4.0"
  }
 },
 "nbformat": 4,
 "nbformat_minor": 5
}
